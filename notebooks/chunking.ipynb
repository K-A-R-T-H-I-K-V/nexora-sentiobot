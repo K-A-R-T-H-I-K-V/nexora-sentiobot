{
 "cells": [
  {
   "cell_type": "code",
   "execution_count": 1,
   "id": "5e99c51a",
   "metadata": {},
   "outputs": [
    {
     "name": "stdout",
     "output_type": "stream",
     "text": [
      "✅ Successfully split the document into 8 context-aware chunks.\n",
      "\n"
     ]
    },
    {
     "data": {
      "text/markdown": [
       "### 🔮 Chunk 1"
      ],
      "text/plain": [
       "<IPython.core.display.Markdown object>"
      ]
     },
     "metadata": {},
     "output_type": "display_data"
    },
    {
     "data": {
      "text/html": [
       "<div>\n",
       "<style scoped>\n",
       "    .dataframe tbody tr th:only-of-type {\n",
       "        vertical-align: middle;\n",
       "    }\n",
       "\n",
       "    .dataframe tbody tr th {\n",
       "        vertical-align: top;\n",
       "    }\n",
       "\n",
       "    .dataframe thead th {\n",
       "        text-align: right;\n",
       "    }\n",
       "</style>\n",
       "<table border=\"1\" class=\"dataframe\">\n",
       "  <thead>\n",
       "    <tr style=\"text-align: right;\">\n",
       "      <th></th>\n",
       "      <th>source</th>\n",
       "      <th>section_title</th>\n",
       "    </tr>\n",
       "  </thead>\n",
       "  <tbody>\n",
       "    <tr>\n",
       "      <th>0</th>\n",
       "      <td>lumiglow_manual.md</td>\n",
       "      <td></td>\n",
       "    </tr>\n",
       "  </tbody>\n",
       "</table>\n",
       "</div>"
      ],
      "text/plain": [
       "               source section_title\n",
       "0  lumiglow_manual.md              "
      ]
     },
     "metadata": {},
     "output_type": "display_data"
    },
    {
     "data": {
      "text/markdown": [
       "#### Page Content:"
      ],
      "text/plain": [
       "<IPython.core.display.Markdown object>"
      ]
     },
     "metadata": {},
     "output_type": "display_data"
    },
    {
     "name": "stdout",
     "output_type": "stream",
     "text": [
      "# Nexora LumiGlow Smart Light – User Manual\n"
     ]
    },
    {
     "data": {
      "text/markdown": [
       "---"
      ],
      "text/plain": [
       "<IPython.core.display.Markdown object>"
      ]
     },
     "metadata": {},
     "output_type": "display_data"
    },
    {
     "data": {
      "text/markdown": [
       "### 🔮 Chunk 2"
      ],
      "text/plain": [
       "<IPython.core.display.Markdown object>"
      ]
     },
     "metadata": {},
     "output_type": "display_data"
    },
    {
     "data": {
      "text/html": [
       "<div>\n",
       "<style scoped>\n",
       "    .dataframe tbody tr th:only-of-type {\n",
       "        vertical-align: middle;\n",
       "    }\n",
       "\n",
       "    .dataframe tbody tr th {\n",
       "        vertical-align: top;\n",
       "    }\n",
       "\n",
       "    .dataframe thead th {\n",
       "        text-align: right;\n",
       "    }\n",
       "</style>\n",
       "<table border=\"1\" class=\"dataframe\">\n",
       "  <thead>\n",
       "    <tr style=\"text-align: right;\">\n",
       "      <th></th>\n",
       "      <th>source</th>\n",
       "      <th>section_title</th>\n",
       "    </tr>\n",
       "  </thead>\n",
       "  <tbody>\n",
       "    <tr>\n",
       "      <th>0</th>\n",
       "      <td>lumiglow_manual.md</td>\n",
       "      <td>Introduction</td>\n",
       "    </tr>\n",
       "  </tbody>\n",
       "</table>\n",
       "</div>"
      ],
      "text/plain": [
       "               source section_title\n",
       "0  lumiglow_manual.md  Introduction"
      ]
     },
     "metadata": {},
     "output_type": "display_data"
    },
    {
     "data": {
      "text/markdown": [
       "#### Page Content:"
      ],
      "text/plain": [
       "<IPython.core.display.Markdown object>"
      ]
     },
     "metadata": {},
     "output_type": "display_data"
    },
    {
     "name": "stdout",
     "output_type": "stream",
     "text": [
      "## Introduction\n",
      "The *LumiGlow Smart Light* combines smart technology with vibrant illumination. Control brightness, color, and schedules from anywhere.\n",
      "\n",
      "*Key Features:*\n",
      "- 16M+ RGB color options\n",
      "- Adjustable brightness (0–100%)\n",
      "- Voice control via Alexa/Google/Nexora App\n",
      "- Energy efficient LED design\n",
      "- Group control for multiple lights\n",
      "\n",
      "---\n"
     ]
    },
    {
     "data": {
      "text/markdown": [
       "---"
      ],
      "text/plain": [
       "<IPython.core.display.Markdown object>"
      ]
     },
     "metadata": {},
     "output_type": "display_data"
    },
    {
     "data": {
      "text/markdown": [
       "### 🔮 Chunk 3"
      ],
      "text/plain": [
       "<IPython.core.display.Markdown object>"
      ]
     },
     "metadata": {},
     "output_type": "display_data"
    },
    {
     "data": {
      "text/html": [
       "<div>\n",
       "<style scoped>\n",
       "    .dataframe tbody tr th:only-of-type {\n",
       "        vertical-align: middle;\n",
       "    }\n",
       "\n",
       "    .dataframe tbody tr th {\n",
       "        vertical-align: top;\n",
       "    }\n",
       "\n",
       "    .dataframe thead th {\n",
       "        text-align: right;\n",
       "    }\n",
       "</style>\n",
       "<table border=\"1\" class=\"dataframe\">\n",
       "  <thead>\n",
       "    <tr style=\"text-align: right;\">\n",
       "      <th></th>\n",
       "      <th>source</th>\n",
       "      <th>section_title</th>\n",
       "    </tr>\n",
       "  </thead>\n",
       "  <tbody>\n",
       "    <tr>\n",
       "      <th>0</th>\n",
       "      <td>lumiglow_manual.md</td>\n",
       "      <td>Safety Notes</td>\n",
       "    </tr>\n",
       "  </tbody>\n",
       "</table>\n",
       "</div>"
      ],
      "text/plain": [
       "               source section_title\n",
       "0  lumiglow_manual.md  Safety Notes"
      ]
     },
     "metadata": {},
     "output_type": "display_data"
    },
    {
     "data": {
      "text/markdown": [
       "#### Page Content:"
      ],
      "text/plain": [
       "<IPython.core.display.Markdown object>"
      ]
     },
     "metadata": {},
     "output_type": "display_data"
    },
    {
     "name": "stdout",
     "output_type": "stream",
     "text": [
      "## Safety Notes\n",
      "- For indoor use only unless stated on packaging.  \n",
      "- Do not exceed recommended wattage.  \n",
      "- Install in standard E27 bulb sockets (unless specified).  \n",
      "- Avoid exposure to moisture.  \n",
      "\n",
      "---\n"
     ]
    },
    {
     "data": {
      "text/markdown": [
       "---"
      ],
      "text/plain": [
       "<IPython.core.display.Markdown object>"
      ]
     },
     "metadata": {},
     "output_type": "display_data"
    },
    {
     "data": {
      "text/markdown": [
       "### 🔮 Chunk 4"
      ],
      "text/plain": [
       "<IPython.core.display.Markdown object>"
      ]
     },
     "metadata": {},
     "output_type": "display_data"
    },
    {
     "data": {
      "text/html": [
       "<div>\n",
       "<style scoped>\n",
       "    .dataframe tbody tr th:only-of-type {\n",
       "        vertical-align: middle;\n",
       "    }\n",
       "\n",
       "    .dataframe tbody tr th {\n",
       "        vertical-align: top;\n",
       "    }\n",
       "\n",
       "    .dataframe thead th {\n",
       "        text-align: right;\n",
       "    }\n",
       "</style>\n",
       "<table border=\"1\" class=\"dataframe\">\n",
       "  <thead>\n",
       "    <tr style=\"text-align: right;\">\n",
       "      <th></th>\n",
       "      <th>source</th>\n",
       "      <th>section_title</th>\n",
       "    </tr>\n",
       "  </thead>\n",
       "  <tbody>\n",
       "    <tr>\n",
       "      <th>0</th>\n",
       "      <td>lumiglow_manual.md</td>\n",
       "      <td>Installation Guide</td>\n",
       "    </tr>\n",
       "  </tbody>\n",
       "</table>\n",
       "</div>"
      ],
      "text/plain": [
       "               source       section_title\n",
       "0  lumiglow_manual.md  Installation Guide"
      ]
     },
     "metadata": {},
     "output_type": "display_data"
    },
    {
     "data": {
      "text/markdown": [
       "#### Page Content:"
      ],
      "text/plain": [
       "<IPython.core.display.Markdown object>"
      ]
     },
     "metadata": {},
     "output_type": "display_data"
    },
    {
     "name": "stdout",
     "output_type": "stream",
     "text": [
      "## Installation Guide\n",
      "1. Turn off the light switch.  \n",
      "2. Screw the LumiGlow bulb into the socket.  \n",
      "3. Turn on the switch – the bulb should blink (pairing mode).  \n",
      "\n",
      "---\n"
     ]
    },
    {
     "data": {
      "text/markdown": [
       "---"
      ],
      "text/plain": [
       "<IPython.core.display.Markdown object>"
      ]
     },
     "metadata": {},
     "output_type": "display_data"
    },
    {
     "data": {
      "text/markdown": [
       "### 🔮 Chunk 5"
      ],
      "text/plain": [
       "<IPython.core.display.Markdown object>"
      ]
     },
     "metadata": {},
     "output_type": "display_data"
    },
    {
     "data": {
      "text/html": [
       "<div>\n",
       "<style scoped>\n",
       "    .dataframe tbody tr th:only-of-type {\n",
       "        vertical-align: middle;\n",
       "    }\n",
       "\n",
       "    .dataframe tbody tr th {\n",
       "        vertical-align: top;\n",
       "    }\n",
       "\n",
       "    .dataframe thead th {\n",
       "        text-align: right;\n",
       "    }\n",
       "</style>\n",
       "<table border=\"1\" class=\"dataframe\">\n",
       "  <thead>\n",
       "    <tr style=\"text-align: right;\">\n",
       "      <th></th>\n",
       "      <th>source</th>\n",
       "      <th>section_title</th>\n",
       "    </tr>\n",
       "  </thead>\n",
       "  <tbody>\n",
       "    <tr>\n",
       "      <th>0</th>\n",
       "      <td>lumiglow_manual.md</td>\n",
       "      <td>Setup &amp; Connectivity</td>\n",
       "    </tr>\n",
       "  </tbody>\n",
       "</table>\n",
       "</div>"
      ],
      "text/plain": [
       "               source         section_title\n",
       "0  lumiglow_manual.md  Setup & Connectivity"
      ]
     },
     "metadata": {},
     "output_type": "display_data"
    },
    {
     "data": {
      "text/markdown": [
       "#### Page Content:"
      ],
      "text/plain": [
       "<IPython.core.display.Markdown object>"
      ]
     },
     "metadata": {},
     "output_type": "display_data"
    },
    {
     "name": "stdout",
     "output_type": "stream",
     "text": [
      "## Setup & Connectivity\n",
      "1. Open the *Nexora Home App*.  \n",
      "2. Tap Add Device > LumiGlow Smart Light.  \n",
      "3. Connect to WiFi (2.4 GHz).  \n",
      "4. Customize: choose color, brightness, schedule.  \n",
      "\n",
      "*Voice Integration:*  \n",
      "- Link Nexora App with Alexa/Google.  \n",
      "- Commands like: “Alexa, set Living Room Light to Blue”.  \n",
      "\n",
      "---\n"
     ]
    },
    {
     "data": {
      "text/markdown": [
       "---"
      ],
      "text/plain": [
       "<IPython.core.display.Markdown object>"
      ]
     },
     "metadata": {},
     "output_type": "display_data"
    },
    {
     "data": {
      "text/markdown": [
       "### 🔮 Chunk 6"
      ],
      "text/plain": [
       "<IPython.core.display.Markdown object>"
      ]
     },
     "metadata": {},
     "output_type": "display_data"
    },
    {
     "data": {
      "text/html": [
       "<div>\n",
       "<style scoped>\n",
       "    .dataframe tbody tr th:only-of-type {\n",
       "        vertical-align: middle;\n",
       "    }\n",
       "\n",
       "    .dataframe tbody tr th {\n",
       "        vertical-align: top;\n",
       "    }\n",
       "\n",
       "    .dataframe thead th {\n",
       "        text-align: right;\n",
       "    }\n",
       "</style>\n",
       "<table border=\"1\" class=\"dataframe\">\n",
       "  <thead>\n",
       "    <tr style=\"text-align: right;\">\n",
       "      <th></th>\n",
       "      <th>source</th>\n",
       "      <th>section_title</th>\n",
       "    </tr>\n",
       "  </thead>\n",
       "  <tbody>\n",
       "    <tr>\n",
       "      <th>0</th>\n",
       "      <td>lumiglow_manual.md</td>\n",
       "      <td>Troubleshooting</td>\n",
       "    </tr>\n",
       "  </tbody>\n",
       "</table>\n",
       "</div>"
      ],
      "text/plain": [
       "               source    section_title\n",
       "0  lumiglow_manual.md  Troubleshooting"
      ]
     },
     "metadata": {},
     "output_type": "display_data"
    },
    {
     "data": {
      "text/markdown": [
       "#### Page Content:"
      ],
      "text/plain": [
       "<IPython.core.display.Markdown object>"
      ]
     },
     "metadata": {},
     "output_type": "display_data"
    },
    {
     "name": "stdout",
     "output_type": "stream",
     "text": [
      "## Troubleshooting\n",
      "- *Light not entering pairing mode:* Switch off/on 3 times quickly.  \n",
      "- *App not finding bulb:* Ensure 2.4 GHz WiFi, keep phone close.  \n",
      "- *Color mismatch:* Update firmware in App > Device Settings.  \n",
      "- *Light flickering:* Check socket connection and power stability.  \n",
      "\n",
      "---\n"
     ]
    },
    {
     "data": {
      "text/markdown": [
       "---"
      ],
      "text/plain": [
       "<IPython.core.display.Markdown object>"
      ]
     },
     "metadata": {},
     "output_type": "display_data"
    },
    {
     "data": {
      "text/markdown": [
       "### 🔮 Chunk 7"
      ],
      "text/plain": [
       "<IPython.core.display.Markdown object>"
      ]
     },
     "metadata": {},
     "output_type": "display_data"
    },
    {
     "data": {
      "text/html": [
       "<div>\n",
       "<style scoped>\n",
       "    .dataframe tbody tr th:only-of-type {\n",
       "        vertical-align: middle;\n",
       "    }\n",
       "\n",
       "    .dataframe tbody tr th {\n",
       "        vertical-align: top;\n",
       "    }\n",
       "\n",
       "    .dataframe thead th {\n",
       "        text-align: right;\n",
       "    }\n",
       "</style>\n",
       "<table border=\"1\" class=\"dataframe\">\n",
       "  <thead>\n",
       "    <tr style=\"text-align: right;\">\n",
       "      <th></th>\n",
       "      <th>source</th>\n",
       "      <th>section_title</th>\n",
       "    </tr>\n",
       "  </thead>\n",
       "  <tbody>\n",
       "    <tr>\n",
       "      <th>0</th>\n",
       "      <td>lumiglow_manual.md</td>\n",
       "      <td>Technical Specifications</td>\n",
       "    </tr>\n",
       "  </tbody>\n",
       "</table>\n",
       "</div>"
      ],
      "text/plain": [
       "               source             section_title\n",
       "0  lumiglow_manual.md  Technical Specifications"
      ]
     },
     "metadata": {},
     "output_type": "display_data"
    },
    {
     "data": {
      "text/markdown": [
       "#### Page Content:"
      ],
      "text/plain": [
       "<IPython.core.display.Markdown object>"
      ]
     },
     "metadata": {},
     "output_type": "display_data"
    },
    {
     "name": "stdout",
     "output_type": "stream",
     "text": [
      "## Technical Specifications\n",
      "- *Wattage:* 9W LED (equivalent to 60W incandescent)  \n",
      "- *Connectivity:* WiFi 2.4GHz, Bluetooth Mesh  \n",
      "- *Color Options:* 16 million+ RGB  \n",
      "- *Lifespan:* 25,000 hours  \n",
      "- *Socket:* E27 standard  \n",
      "\n",
      "---\n"
     ]
    },
    {
     "data": {
      "text/markdown": [
       "---"
      ],
      "text/plain": [
       "<IPython.core.display.Markdown object>"
      ]
     },
     "metadata": {},
     "output_type": "display_data"
    },
    {
     "data": {
      "text/markdown": [
       "### 🔮 Chunk 8"
      ],
      "text/plain": [
       "<IPython.core.display.Markdown object>"
      ]
     },
     "metadata": {},
     "output_type": "display_data"
    },
    {
     "data": {
      "text/html": [
       "<div>\n",
       "<style scoped>\n",
       "    .dataframe tbody tr th:only-of-type {\n",
       "        vertical-align: middle;\n",
       "    }\n",
       "\n",
       "    .dataframe tbody tr th {\n",
       "        vertical-align: top;\n",
       "    }\n",
       "\n",
       "    .dataframe thead th {\n",
       "        text-align: right;\n",
       "    }\n",
       "</style>\n",
       "<table border=\"1\" class=\"dataframe\">\n",
       "  <thead>\n",
       "    <tr style=\"text-align: right;\">\n",
       "      <th></th>\n",
       "      <th>source</th>\n",
       "      <th>section_title</th>\n",
       "    </tr>\n",
       "  </thead>\n",
       "  <tbody>\n",
       "    <tr>\n",
       "      <th>0</th>\n",
       "      <td>lumiglow_manual.md</td>\n",
       "      <td>Warranty &amp; Support</td>\n",
       "    </tr>\n",
       "  </tbody>\n",
       "</table>\n",
       "</div>"
      ],
      "text/plain": [
       "               source       section_title\n",
       "0  lumiglow_manual.md  Warranty & Support"
      ]
     },
     "metadata": {},
     "output_type": "display_data"
    },
    {
     "data": {
      "text/markdown": [
       "#### Page Content:"
      ],
      "text/plain": [
       "<IPython.core.display.Markdown object>"
      ]
     },
     "metadata": {},
     "output_type": "display_data"
    },
    {
     "name": "stdout",
     "output_type": "stream",
     "text": [
      "## Warranty & Support\n",
      "- *Warranty:* 1 year limited warranty.  \n",
      "- *Support:* [www.nexoraelectronics.com/support](#) or 1800-123-NEXORA.\n"
     ]
    },
    {
     "data": {
      "text/markdown": [
       "---"
      ],
      "text/plain": [
       "<IPython.core.display.Markdown object>"
      ]
     },
     "metadata": {},
     "output_type": "display_data"
    }
   ],
   "source": [
    "# ==============================================================================\n",
    "#  COPY-PASTE THIS ENTIRE BLOCK INTO A JUPYTER NOTEBOOK CELL AND RUN IT\n",
    "# ==============================================================================\n",
    "\n",
    "import re\n",
    "from langchain.docstore.document import Document\n",
    "import pandas as pd\n",
    "from IPython.display import display, Markdown\n",
    "\n",
    "# --- 1. The Sample Markdown Document ---\n",
    "# We'll use the manual you provided as our test case.\n",
    "markdown_text = \"\"\"\n",
    "# Nexora LumiGlow Smart Light – User Manual\n",
    "\n",
    "## Introduction\n",
    "The *LumiGlow Smart Light* combines smart technology with vibrant illumination. Control brightness, color, and schedules from anywhere.\n",
    "\n",
    "*Key Features:*\n",
    "- 16M+ RGB color options\n",
    "- Adjustable brightness (0–100%)\n",
    "- Voice control via Alexa/Google/Nexora App\n",
    "- Energy efficient LED design\n",
    "- Group control for multiple lights\n",
    "\n",
    "---\n",
    "\n",
    "## Safety Notes\n",
    "- For indoor use only unless stated on packaging.  \n",
    "- Do not exceed recommended wattage.  \n",
    "- Install in standard E27 bulb sockets (unless specified).  \n",
    "- Avoid exposure to moisture.  \n",
    "\n",
    "---\n",
    "\n",
    "## Installation Guide\n",
    "1. Turn off the light switch.  \n",
    "2. Screw the LumiGlow bulb into the socket.  \n",
    "3. Turn on the switch – the bulb should blink (pairing mode).  \n",
    "\n",
    "---\n",
    "\n",
    "## Setup & Connectivity\n",
    "1. Open the *Nexora Home App*.  \n",
    "2. Tap Add Device > LumiGlow Smart Light.  \n",
    "3. Connect to WiFi (2.4 GHz).  \n",
    "4. Customize: choose color, brightness, schedule.  \n",
    "\n",
    "*Voice Integration:*  \n",
    "- Link Nexora App with Alexa/Google.  \n",
    "- Commands like: “Alexa, set Living Room Light to Blue”.  \n",
    "\n",
    "---\n",
    "\n",
    "## Troubleshooting\n",
    "- *Light not entering pairing mode:* Switch off/on 3 times quickly.  \n",
    "- *App not finding bulb:* Ensure 2.4 GHz WiFi, keep phone close.  \n",
    "- *Color mismatch:* Update firmware in App > Device Settings.  \n",
    "- *Light flickering:* Check socket connection and power stability.  \n",
    "\n",
    "---\n",
    "\n",
    "## Technical Specifications\n",
    "- *Wattage:* 9W LED (equivalent to 60W incandescent)  \n",
    "- *Connectivity:* WiFi 2.4GHz, Bluetooth Mesh  \n",
    "- *Color Options:* 16 million+ RGB  \n",
    "- *Lifespan:* 25,000 hours  \n",
    "- *Socket:* E27 standard  \n",
    "\n",
    "---\n",
    "\n",
    "## Warranty & Support\n",
    "- *Warranty:* 1 year limited warranty.  \n",
    "- *Support:* [www.nexoraelectronics.com/support](#) or 1800-123-NEXORA.\n",
    "\"\"\"\n",
    "\n",
    "# --- 2. The Sophisticated Chunking Function ---\n",
    "# This is the same function from our ingest.py script.\n",
    "def chunk_markdown_by_section(markdown_text: str, source: str) -> list[Document]:\n",
    "    \"\"\"\n",
    "    Splits a Markdown document by '##' headers, creating a Document for each section\n",
    "    with rich metadata containing the section title.\n",
    "    \"\"\"\n",
    "    sections = re.split(r'\\n## ', markdown_text)\n",
    "    header_section = sections[0]\n",
    "    remaining_sections = sections[1:]\n",
    "    \n",
    "    documents = []\n",
    "    \n",
    "    if header_section.strip():\n",
    "        title = header_section.split('\\n', 1)[0].replace('# ', '').strip()\n",
    "        documents.append(Document(\n",
    "            page_content=header_section.strip(),\n",
    "            metadata={\"source\": source, \"section_title\": title}\n",
    "        ))\n",
    "        \n",
    "    for section in remaining_sections:\n",
    "        if not section.strip():\n",
    "            continue\n",
    "        \n",
    "        parts = section.split('\\n', 1)\n",
    "        title = parts[0].strip()\n",
    "        content = parts[1].strip() if len(parts) > 1 else \"\"\n",
    "        full_content = f\"## {title}\\n{content}\"\n",
    "        \n",
    "        documents.append(Document(\n",
    "            page_content=full_content,\n",
    "            metadata={\"source\": source, \"section_title\": title}\n",
    "        ))\n",
    "        \n",
    "    return documents\n",
    "\n",
    "# --- 3. Execute and Visualize the Chunking ---\n",
    "source_file = \"lumiglow_manual.md\"\n",
    "chunked_documents = chunk_markdown_by_section(markdown_text, source_file)\n",
    "\n",
    "print(f\"✅ Successfully split the document into {len(chunked_documents)} context-aware chunks.\\n\")\n",
    "\n",
    "# --- Display the results in a clean, readable format ---\n",
    "for i, doc in enumerate(chunked_documents):\n",
    "    display(Markdown(f\"### 🔮 Chunk {i+1}\"))\n",
    "    \n",
    "    # Create a small DataFrame to display metadata neatly\n",
    "    meta_df = pd.DataFrame([doc.metadata])\n",
    "    display(meta_df)\n",
    "    \n",
    "    # Display the actual content of the chunk\n",
    "    display(Markdown(\"#### Page Content:\"))\n",
    "    print(doc.page_content)\n",
    "    display(Markdown(\"---\"))"
   ]
  },
  {
   "cell_type": "code",
   "execution_count": null,
   "id": "81b9cd27",
   "metadata": {},
   "outputs": [],
   "source": []
  }
 ],
 "metadata": {
  "kernelspec": {
   "display_name": "nexora_env",
   "language": "python",
   "name": "python3"
  },
  "language_info": {
   "codemirror_mode": {
    "name": "ipython",
    "version": 3
   },
   "file_extension": ".py",
   "mimetype": "text/x-python",
   "name": "python",
   "nbconvert_exporter": "python",
   "pygments_lexer": "ipython3",
   "version": "3.10.18"
  }
 },
 "nbformat": 4,
 "nbformat_minor": 5
}
