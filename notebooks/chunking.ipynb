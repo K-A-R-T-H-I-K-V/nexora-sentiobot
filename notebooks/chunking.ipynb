{
 "cells": [
  {
   "cell_type": "code",
   "execution_count": 2,
   "id": "5e99c51a",
   "metadata": {},
   "outputs": [
    {
     "name": "stdout",
     "output_type": "stream",
     "text": [
      "Loaded content from: nexora_thermostat_pro_manual.md\n",
      "\n",
      "✅ Successfully split the document into 14 hierarchical chunks.\n",
      "\n"
     ]
    },
    {
     "data": {
      "text/markdown": [
       "### 🔮 Chunk 1"
      ],
      "text/plain": [
       "<IPython.core.display.Markdown object>"
      ]
     },
     "metadata": {},
     "output_type": "display_data"
    },
    {
     "data": {
      "text/html": [
       "<div>\n",
       "<style scoped>\n",
       "    .dataframe tbody tr th:only-of-type {\n",
       "        vertical-align: middle;\n",
       "    }\n",
       "\n",
       "    .dataframe tbody tr th {\n",
       "        vertical-align: top;\n",
       "    }\n",
       "\n",
       "    .dataframe thead th {\n",
       "        text-align: right;\n",
       "    }\n",
       "</style>\n",
       "<table border=\"1\" class=\"dataframe\">\n",
       "  <thead>\n",
       "    <tr style=\"text-align: right;\">\n",
       "      <th></th>\n",
       "      <th>source</th>\n",
       "      <th>section_title</th>\n",
       "      <th>subsection_title</th>\n",
       "    </tr>\n",
       "  </thead>\n",
       "  <tbody>\n",
       "    <tr>\n",
       "      <th>0</th>\n",
       "      <td>nexora_thermostat_pro_manual.md</td>\n",
       "      <td>Nexora Thermostat Pro – User Manual</td>\n",
       "      <td>Introduction</td>\n",
       "    </tr>\n",
       "  </tbody>\n",
       "</table>\n",
       "</div>"
      ],
      "text/plain": [
       "                            source                        section_title  \\\n",
       "0  nexora_thermostat_pro_manual.md  Nexora Thermostat Pro – User Manual   \n",
       "\n",
       "  subsection_title  \n",
       "0     Introduction  "
      ]
     },
     "metadata": {},
     "output_type": "display_data"
    },
    {
     "data": {
      "text/markdown": [
       "#### Page Content:"
      ],
      "text/plain": [
       "<IPython.core.display.Markdown object>"
      ]
     },
     "metadata": {},
     "output_type": "display_data"
    },
    {
     "name": "stdout",
     "output_type": "stream",
     "text": [
      "# Nexora Thermostat Pro – User Manual\n",
      "**Model: NTS-PRO-24V-V3**\n"
     ]
    },
    {
     "data": {
      "text/markdown": [
       "---"
      ],
      "text/plain": [
       "<IPython.core.display.Markdown object>"
      ]
     },
     "metadata": {},
     "output_type": "display_data"
    },
    {
     "data": {
      "text/markdown": [
       "### 🔮 Chunk 2"
      ],
      "text/plain": [
       "<IPython.core.display.Markdown object>"
      ]
     },
     "metadata": {},
     "output_type": "display_data"
    },
    {
     "data": {
      "text/html": [
       "<div>\n",
       "<style scoped>\n",
       "    .dataframe tbody tr th:only-of-type {\n",
       "        vertical-align: middle;\n",
       "    }\n",
       "\n",
       "    .dataframe tbody tr th {\n",
       "        vertical-align: top;\n",
       "    }\n",
       "\n",
       "    .dataframe thead th {\n",
       "        text-align: right;\n",
       "    }\n",
       "</style>\n",
       "<table border=\"1\" class=\"dataframe\">\n",
       "  <thead>\n",
       "    <tr style=\"text-align: right;\">\n",
       "      <th></th>\n",
       "      <th>source</th>\n",
       "      <th>section_title</th>\n",
       "      <th>subsection_title</th>\n",
       "    </tr>\n",
       "  </thead>\n",
       "  <tbody>\n",
       "    <tr>\n",
       "      <th>0</th>\n",
       "      <td>nexora_thermostat_pro_manual.md</td>\n",
       "      <td>1. Introduction</td>\n",
       "      <td>Overview</td>\n",
       "    </tr>\n",
       "  </tbody>\n",
       "</table>\n",
       "</div>"
      ],
      "text/plain": [
       "                            source    section_title subsection_title\n",
       "0  nexora_thermostat_pro_manual.md  1. Introduction         Overview"
      ]
     },
     "metadata": {},
     "output_type": "display_data"
    },
    {
     "data": {
      "text/markdown": [
       "#### Page Content:"
      ],
      "text/plain": [
       "<IPython.core.display.Markdown object>"
      ]
     },
     "metadata": {},
     "output_type": "display_data"
    },
    {
     "name": "stdout",
     "output_type": "stream",
     "text": [
      "## 1. Introduction\n",
      "Thank you for choosing the Nexora Thermostat Pro, the next generation of intelligent climate control. Engineered for maximum energy efficiency and seamless integration into your smart home, the Thermostat Pro ensures your comfort while actively working to reduce your power consumption. This manual provides comprehensive instructions for installation, operation, and troubleshooting.\n",
      "\n",
      "---\n"
     ]
    },
    {
     "data": {
      "text/markdown": [
       "---"
      ],
      "text/plain": [
       "<IPython.core.display.Markdown object>"
      ]
     },
     "metadata": {},
     "output_type": "display_data"
    },
    {
     "data": {
      "text/markdown": [
       "### 🔮 Chunk 3"
      ],
      "text/plain": [
       "<IPython.core.display.Markdown object>"
      ]
     },
     "metadata": {},
     "output_type": "display_data"
    },
    {
     "data": {
      "text/html": [
       "<div>\n",
       "<style scoped>\n",
       "    .dataframe tbody tr th:only-of-type {\n",
       "        vertical-align: middle;\n",
       "    }\n",
       "\n",
       "    .dataframe tbody tr th {\n",
       "        vertical-align: top;\n",
       "    }\n",
       "\n",
       "    .dataframe thead th {\n",
       "        text-align: right;\n",
       "    }\n",
       "</style>\n",
       "<table border=\"1\" class=\"dataframe\">\n",
       "  <thead>\n",
       "    <tr style=\"text-align: right;\">\n",
       "      <th></th>\n",
       "      <th>source</th>\n",
       "      <th>section_title</th>\n",
       "      <th>subsection_title</th>\n",
       "    </tr>\n",
       "  </thead>\n",
       "  <tbody>\n",
       "    <tr>\n",
       "      <th>0</th>\n",
       "      <td>nexora_thermostat_pro_manual.md</td>\n",
       "      <td>2. What's in the Box</td>\n",
       "      <td>Overview</td>\n",
       "    </tr>\n",
       "  </tbody>\n",
       "</table>\n",
       "</div>"
      ],
      "text/plain": [
       "                            source         section_title subsection_title\n",
       "0  nexora_thermostat_pro_manual.md  2. What's in the Box         Overview"
      ]
     },
     "metadata": {},
     "output_type": "display_data"
    },
    {
     "data": {
      "text/markdown": [
       "#### Page Content:"
      ],
      "text/plain": [
       "<IPython.core.display.Markdown object>"
      ]
     },
     "metadata": {},
     "output_type": "display_data"
    },
    {
     "name": "stdout",
     "output_type": "stream",
     "text": [
      "## 2. What's in the Box\n",
      "- 1 x Nexora Thermostat Pro Display Unit\n",
      "- 1 x Wall-Mount Base Plate\n",
      "- 1 x Trim Plate (for covering old paint marks)\n",
      "- 2 x Wall Screws & Anchors\n",
      "- 1 x Set of Wire Labels\n",
      "- 1 x Installation & Quick Start Guide\n",
      "- 1 x Warranty Card\n",
      "\n",
      "---\n"
     ]
    },
    {
     "data": {
      "text/markdown": [
       "---"
      ],
      "text/plain": [
       "<IPython.core.display.Markdown object>"
      ]
     },
     "metadata": {},
     "output_type": "display_data"
    },
    {
     "data": {
      "text/markdown": [
       "### 🔮 Chunk 4"
      ],
      "text/plain": [
       "<IPython.core.display.Markdown object>"
      ]
     },
     "metadata": {},
     "output_type": "display_data"
    },
    {
     "data": {
      "text/html": [
       "<div>\n",
       "<style scoped>\n",
       "    .dataframe tbody tr th:only-of-type {\n",
       "        vertical-align: middle;\n",
       "    }\n",
       "\n",
       "    .dataframe tbody tr th {\n",
       "        vertical-align: top;\n",
       "    }\n",
       "\n",
       "    .dataframe thead th {\n",
       "        text-align: right;\n",
       "    }\n",
       "</style>\n",
       "<table border=\"1\" class=\"dataframe\">\n",
       "  <thead>\n",
       "    <tr style=\"text-align: right;\">\n",
       "      <th></th>\n",
       "      <th>source</th>\n",
       "      <th>section_title</th>\n",
       "      <th>subsection_title</th>\n",
       "    </tr>\n",
       "  </thead>\n",
       "  <tbody>\n",
       "    <tr>\n",
       "      <th>0</th>\n",
       "      <td>nexora_thermostat_pro_manual.md</td>\n",
       "      <td>3. Safety &amp; Compliance</td>\n",
       "      <td>Overview</td>\n",
       "    </tr>\n",
       "  </tbody>\n",
       "</table>\n",
       "</div>"
      ],
      "text/plain": [
       "                            source           section_title subsection_title\n",
       "0  nexora_thermostat_pro_manual.md  3. Safety & Compliance         Overview"
      ]
     },
     "metadata": {},
     "output_type": "display_data"
    },
    {
     "data": {
      "text/markdown": [
       "#### Page Content:"
      ],
      "text/plain": [
       "<IPython.core.display.Markdown object>"
      ]
     },
     "metadata": {},
     "output_type": "display_data"
    },
    {
     "name": "stdout",
     "output_type": "stream",
     "text": [
      "## 3. Safety & Compliance\n",
      "**WARNING: RISK OF ELECTRICAL SHOCK. Turn off power to your HVAC system at the circuit breaker box before beginning installation to prevent serious injury.**\n"
     ]
    },
    {
     "data": {
      "text/markdown": [
       "---"
      ],
      "text/plain": [
       "<IPython.core.display.Markdown object>"
      ]
     },
     "metadata": {},
     "output_type": "display_data"
    },
    {
     "data": {
      "text/markdown": [
       "### 🔮 Chunk 5"
      ],
      "text/plain": [
       "<IPython.core.display.Markdown object>"
      ]
     },
     "metadata": {},
     "output_type": "display_data"
    },
    {
     "data": {
      "text/html": [
       "<div>\n",
       "<style scoped>\n",
       "    .dataframe tbody tr th:only-of-type {\n",
       "        vertical-align: middle;\n",
       "    }\n",
       "\n",
       "    .dataframe tbody tr th {\n",
       "        vertical-align: top;\n",
       "    }\n",
       "\n",
       "    .dataframe thead th {\n",
       "        text-align: right;\n",
       "    }\n",
       "</style>\n",
       "<table border=\"1\" class=\"dataframe\">\n",
       "  <thead>\n",
       "    <tr style=\"text-align: right;\">\n",
       "      <th></th>\n",
       "      <th>source</th>\n",
       "      <th>section_title</th>\n",
       "      <th>subsection_title</th>\n",
       "    </tr>\n",
       "  </thead>\n",
       "  <tbody>\n",
       "    <tr>\n",
       "      <th>0</th>\n",
       "      <td>nexora_thermostat_pro_manual.md</td>\n",
       "      <td>3. Safety &amp; Compliance</td>\n",
       "      <td>3.1 Pre-Installation Warnings</td>\n",
       "    </tr>\n",
       "  </tbody>\n",
       "</table>\n",
       "</div>"
      ],
      "text/plain": [
       "                            source           section_title  \\\n",
       "0  nexora_thermostat_pro_manual.md  3. Safety & Compliance   \n",
       "\n",
       "                subsection_title  \n",
       "0  3.1 Pre-Installation Warnings  "
      ]
     },
     "metadata": {},
     "output_type": "display_data"
    },
    {
     "data": {
      "text/markdown": [
       "#### Page Content:"
      ],
      "text/plain": [
       "<IPython.core.display.Markdown object>"
      ]
     },
     "metadata": {},
     "output_type": "display_data"
    },
    {
     "name": "stdout",
     "output_type": "stream",
     "text": [
      "### 3.1 Pre-Installation Warnings\n",
      "-   This thermostat is designed for use with 24V AC low-voltage systems. It is **NOT** compatible with high-voltage systems (120/240V), such as electric baseboard heaters.\n",
      "-   If you are unsure about your HVAC system's compatibility, consult a professional HVAC technician.\n",
      "-   A **C-wire (Common wire)** is highly recommended for stable performance. While the Thermostat Pro can operate in some systems without a C-wire, its absence may lead to battery drain and connectivity issues.\n",
      "-   Read all instructions carefully before proceeding. Nexora is not responsible for damage caused by improper installation.\n"
     ]
    },
    {
     "data": {
      "text/markdown": [
       "---"
      ],
      "text/plain": [
       "<IPython.core.display.Markdown object>"
      ]
     },
     "metadata": {},
     "output_type": "display_data"
    },
    {
     "data": {
      "text/markdown": [
       "### 🔮 Chunk 6"
      ],
      "text/plain": [
       "<IPython.core.display.Markdown object>"
      ]
     },
     "metadata": {},
     "output_type": "display_data"
    },
    {
     "data": {
      "text/html": [
       "<div>\n",
       "<style scoped>\n",
       "    .dataframe tbody tr th:only-of-type {\n",
       "        vertical-align: middle;\n",
       "    }\n",
       "\n",
       "    .dataframe tbody tr th {\n",
       "        vertical-align: top;\n",
       "    }\n",
       "\n",
       "    .dataframe thead th {\n",
       "        text-align: right;\n",
       "    }\n",
       "</style>\n",
       "<table border=\"1\" class=\"dataframe\">\n",
       "  <thead>\n",
       "    <tr style=\"text-align: right;\">\n",
       "      <th></th>\n",
       "      <th>source</th>\n",
       "      <th>section_title</th>\n",
       "      <th>subsection_title</th>\n",
       "    </tr>\n",
       "  </thead>\n",
       "  <tbody>\n",
       "    <tr>\n",
       "      <th>0</th>\n",
       "      <td>nexora_thermostat_pro_manual.md</td>\n",
       "      <td>3. Safety &amp; Compliance</td>\n",
       "      <td>3.2 FCC Compliance</td>\n",
       "    </tr>\n",
       "  </tbody>\n",
       "</table>\n",
       "</div>"
      ],
      "text/plain": [
       "                            source           section_title    subsection_title\n",
       "0  nexora_thermostat_pro_manual.md  3. Safety & Compliance  3.2 FCC Compliance"
      ]
     },
     "metadata": {},
     "output_type": "display_data"
    },
    {
     "data": {
      "text/markdown": [
       "#### Page Content:"
      ],
      "text/plain": [
       "<IPython.core.display.Markdown object>"
      ]
     },
     "metadata": {},
     "output_type": "display_data"
    },
    {
     "name": "stdout",
     "output_type": "stream",
     "text": [
      "### 3.2 FCC Compliance\n",
      "This device complies with Part 15 of the FCC Rules. Operation is subject to the following two conditions: (1) this device may not cause harmful interference, and (2) this device must accept any interference received, including interference that may cause undesired operation.\n",
      "\n",
      "---\n"
     ]
    },
    {
     "data": {
      "text/markdown": [
       "---"
      ],
      "text/plain": [
       "<IPython.core.display.Markdown object>"
      ]
     },
     "metadata": {},
     "output_type": "display_data"
    },
    {
     "data": {
      "text/markdown": [
       "### 🔮 Chunk 7"
      ],
      "text/plain": [
       "<IPython.core.display.Markdown object>"
      ]
     },
     "metadata": {},
     "output_type": "display_data"
    },
    {
     "data": {
      "text/html": [
       "<div>\n",
       "<style scoped>\n",
       "    .dataframe tbody tr th:only-of-type {\n",
       "        vertical-align: middle;\n",
       "    }\n",
       "\n",
       "    .dataframe tbody tr th {\n",
       "        vertical-align: top;\n",
       "    }\n",
       "\n",
       "    .dataframe thead th {\n",
       "        text-align: right;\n",
       "    }\n",
       "</style>\n",
       "<table border=\"1\" class=\"dataframe\">\n",
       "  <thead>\n",
       "    <tr style=\"text-align: right;\">\n",
       "      <th></th>\n",
       "      <th>source</th>\n",
       "      <th>section_title</th>\n",
       "      <th>subsection_title</th>\n",
       "    </tr>\n",
       "  </thead>\n",
       "  <tbody>\n",
       "    <tr>\n",
       "      <th>0</th>\n",
       "      <td>nexora_thermostat_pro_manual.md</td>\n",
       "      <td>4. Installation Guide</td>\n",
       "      <td>Overview</td>\n",
       "    </tr>\n",
       "  </tbody>\n",
       "</table>\n",
       "</div>"
      ],
      "text/plain": [
       "                            source          section_title subsection_title\n",
       "0  nexora_thermostat_pro_manual.md  4. Installation Guide         Overview"
      ]
     },
     "metadata": {},
     "output_type": "display_data"
    },
    {
     "data": {
      "text/markdown": [
       "#### Page Content:"
      ],
      "text/plain": [
       "<IPython.core.display.Markdown object>"
      ]
     },
     "metadata": {},
     "output_type": "display_data"
    },
    {
     "name": "stdout",
     "output_type": "stream",
     "text": [
      "## 4. Installation Guide\n",
      "*Tools Required:* Phillips Screwdriver, Drill with small bit (optional), Smartphone with Nexora App.\n"
     ]
    },
    {
     "data": {
      "text/markdown": [
       "---"
      ],
      "text/plain": [
       "<IPython.core.display.Markdown object>"
      ]
     },
     "metadata": {},
     "output_type": "display_data"
    },
    {
     "data": {
      "text/markdown": [
       "### 🔮 Chunk 8"
      ],
      "text/plain": [
       "<IPython.core.display.Markdown object>"
      ]
     },
     "metadata": {},
     "output_type": "display_data"
    },
    {
     "data": {
      "text/html": [
       "<div>\n",
       "<style scoped>\n",
       "    .dataframe tbody tr th:only-of-type {\n",
       "        vertical-align: middle;\n",
       "    }\n",
       "\n",
       "    .dataframe tbody tr th {\n",
       "        vertical-align: top;\n",
       "    }\n",
       "\n",
       "    .dataframe thead th {\n",
       "        text-align: right;\n",
       "    }\n",
       "</style>\n",
       "<table border=\"1\" class=\"dataframe\">\n",
       "  <thead>\n",
       "    <tr style=\"text-align: right;\">\n",
       "      <th></th>\n",
       "      <th>source</th>\n",
       "      <th>section_title</th>\n",
       "      <th>subsection_title</th>\n",
       "    </tr>\n",
       "  </thead>\n",
       "  <tbody>\n",
       "    <tr>\n",
       "      <th>0</th>\n",
       "      <td>nexora_thermostat_pro_manual.md</td>\n",
       "      <td>4. Installation Guide</td>\n",
       "      <td>4.1 Removing Your Old Thermostat</td>\n",
       "    </tr>\n",
       "  </tbody>\n",
       "</table>\n",
       "</div>"
      ],
      "text/plain": [
       "                            source          section_title  \\\n",
       "0  nexora_thermostat_pro_manual.md  4. Installation Guide   \n",
       "\n",
       "                   subsection_title  \n",
       "0  4.1 Removing Your Old Thermostat  "
      ]
     },
     "metadata": {},
     "output_type": "display_data"
    },
    {
     "data": {
      "text/markdown": [
       "#### Page Content:"
      ],
      "text/plain": [
       "<IPython.core.display.Markdown object>"
      ]
     },
     "metadata": {},
     "output_type": "display_data"
    },
    {
     "name": "stdout",
     "output_type": "stream",
     "text": [
      "### 4.1 Removing Your Old Thermostat\n",
      "1.  **Power Off HVAC:** Go to your home's main electrical panel and turn off the circuit breaker that controls your heating and air conditioning system.\n",
      "2.  **Remove Old Cover:** Gently pull the cover off your old thermostat. Most models snap off or have small tabs.\n",
      "3.  **Photograph & Label Wires:** Before disconnecting any wires, take a clear photo of the current wiring configuration. Use the included wire labels to mark each wire according to the terminal it's connected to (e.g., R, C, W, Y, G).\n",
      "4.  **Disconnect Wires & Base:** Carefully unscrew the terminals and disconnect the wires. Unscrew the old thermostat's base plate from the wall.\n"
     ]
    },
    {
     "data": {
      "text/markdown": [
       "---"
      ],
      "text/plain": [
       "<IPython.core.display.Markdown object>"
      ]
     },
     "metadata": {},
     "output_type": "display_data"
    },
    {
     "data": {
      "text/markdown": [
       "### 🔮 Chunk 9"
      ],
      "text/plain": [
       "<IPython.core.display.Markdown object>"
      ]
     },
     "metadata": {},
     "output_type": "display_data"
    },
    {
     "data": {
      "text/html": [
       "<div>\n",
       "<style scoped>\n",
       "    .dataframe tbody tr th:only-of-type {\n",
       "        vertical-align: middle;\n",
       "    }\n",
       "\n",
       "    .dataframe tbody tr th {\n",
       "        vertical-align: top;\n",
       "    }\n",
       "\n",
       "    .dataframe thead th {\n",
       "        text-align: right;\n",
       "    }\n",
       "</style>\n",
       "<table border=\"1\" class=\"dataframe\">\n",
       "  <thead>\n",
       "    <tr style=\"text-align: right;\">\n",
       "      <th></th>\n",
       "      <th>source</th>\n",
       "      <th>section_title</th>\n",
       "      <th>subsection_title</th>\n",
       "    </tr>\n",
       "  </thead>\n",
       "  <tbody>\n",
       "    <tr>\n",
       "      <th>0</th>\n",
       "      <td>nexora_thermostat_pro_manual.md</td>\n",
       "      <td>4. Installation Guide</td>\n",
       "      <td>4.2 Wiring the Thermostat Pro</td>\n",
       "    </tr>\n",
       "  </tbody>\n",
       "</table>\n",
       "</div>"
      ],
      "text/plain": [
       "                            source          section_title  \\\n",
       "0  nexora_thermostat_pro_manual.md  4. Installation Guide   \n",
       "\n",
       "                subsection_title  \n",
       "0  4.2 Wiring the Thermostat Pro  "
      ]
     },
     "metadata": {},
     "output_type": "display_data"
    },
    {
     "data": {
      "text/markdown": [
       "#### Page Content:"
      ],
      "text/plain": [
       "<IPython.core.display.Markdown object>"
      ]
     },
     "metadata": {},
     "output_type": "display_data"
    },
    {
     "name": "stdout",
     "output_type": "stream",
     "text": [
      "### 4.2 Wiring the Thermostat Pro\n",
      "1.  **Mount Base Plate:** Use the new Thermostat Pro base plate and screws to mount it to the wall. Use the optional trim plate if needed to cover any gaps or old paint.\n",
      "2.  **Connect Wires:** Insert each labeled wire into the corresponding terminal on the Thermostat Pro base plate. The terminals are push-in; no screwdriver is needed.\n",
      "    -   `R` or `Rh`/`Rc`: Power\n",
      "    -   `C`: Common wire (Provides continuous power)\n",
      "    -   `W` or `W1`: Heating\n",
      "    -   `Y` or `Y1`: Cooling\n",
      "    -   `G`: Fan control\n",
      "\n",
      "3.  **Attach Display:** Align the display unit with the base plate and gently push until it clicks securely into place.\n",
      "4.  **Restore Power:** Turn the circuit breaker for your HVAC system back ON. The Thermostat Pro display should power on and begin the initial setup sequence.\n",
      "\n",
      "---\n"
     ]
    },
    {
     "data": {
      "text/markdown": [
       "---"
      ],
      "text/plain": [
       "<IPython.core.display.Markdown object>"
      ]
     },
     "metadata": {},
     "output_type": "display_data"
    },
    {
     "data": {
      "text/markdown": [
       "### 🔮 Chunk 10"
      ],
      "text/plain": [
       "<IPython.core.display.Markdown object>"
      ]
     },
     "metadata": {},
     "output_type": "display_data"
    },
    {
     "data": {
      "text/html": [
       "<div>\n",
       "<style scoped>\n",
       "    .dataframe tbody tr th:only-of-type {\n",
       "        vertical-align: middle;\n",
       "    }\n",
       "\n",
       "    .dataframe tbody tr th {\n",
       "        vertical-align: top;\n",
       "    }\n",
       "\n",
       "    .dataframe thead th {\n",
       "        text-align: right;\n",
       "    }\n",
       "</style>\n",
       "<table border=\"1\" class=\"dataframe\">\n",
       "  <thead>\n",
       "    <tr style=\"text-align: right;\">\n",
       "      <th></th>\n",
       "      <th>source</th>\n",
       "      <th>section_title</th>\n",
       "      <th>subsection_title</th>\n",
       "    </tr>\n",
       "  </thead>\n",
       "  <tbody>\n",
       "    <tr>\n",
       "      <th>0</th>\n",
       "      <td>nexora_thermostat_pro_manual.md</td>\n",
       "      <td>5. App Setup &amp; Configuration</td>\n",
       "      <td>Overview</td>\n",
       "    </tr>\n",
       "  </tbody>\n",
       "</table>\n",
       "</div>"
      ],
      "text/plain": [
       "                            source                 section_title  \\\n",
       "0  nexora_thermostat_pro_manual.md  5. App Setup & Configuration   \n",
       "\n",
       "  subsection_title  \n",
       "0         Overview  "
      ]
     },
     "metadata": {},
     "output_type": "display_data"
    },
    {
     "data": {
      "text/markdown": [
       "#### Page Content:"
      ],
      "text/plain": [
       "<IPython.core.display.Markdown object>"
      ]
     },
     "metadata": {},
     "output_type": "display_data"
    },
    {
     "name": "stdout",
     "output_type": "stream",
     "text": [
      "## 5. App Setup & Configuration\n",
      "1.  **Download App:** Install the **Nexora Home App** from the Google Play Store or Apple App Store.\n",
      "2.  **Add Device:** Open the app, create an account or log in, and select `Add New Device > Thermostat Pro`.\n",
      "3.  **Connect to Wi-Fi:** The thermostat display will show a QR code. Scan it with the app and follow the on-screen instructions to connect to your **2.4 GHz Wi-Fi network**.\n",
      "4.  **System Configuration:** The app will guide you through a series of questions about your HVAC system (e.g., fuel type, heating type) to optimize performance.\n",
      "5.  **Integrate Voice Assistants:** In the app, navigate to `Settings > Integrations` to link your Nexora account with Amazon Alexa or Google Home.\n",
      "\n",
      "---\n"
     ]
    },
    {
     "data": {
      "text/markdown": [
       "---"
      ],
      "text/plain": [
       "<IPython.core.display.Markdown object>"
      ]
     },
     "metadata": {},
     "output_type": "display_data"
    },
    {
     "data": {
      "text/markdown": [
       "### 🔮 Chunk 11"
      ],
      "text/plain": [
       "<IPython.core.display.Markdown object>"
      ]
     },
     "metadata": {},
     "output_type": "display_data"
    },
    {
     "data": {
      "text/html": [
       "<div>\n",
       "<style scoped>\n",
       "    .dataframe tbody tr th:only-of-type {\n",
       "        vertical-align: middle;\n",
       "    }\n",
       "\n",
       "    .dataframe tbody tr th {\n",
       "        vertical-align: top;\n",
       "    }\n",
       "\n",
       "    .dataframe thead th {\n",
       "        text-align: right;\n",
       "    }\n",
       "</style>\n",
       "<table border=\"1\" class=\"dataframe\">\n",
       "  <thead>\n",
       "    <tr style=\"text-align: right;\">\n",
       "      <th></th>\n",
       "      <th>source</th>\n",
       "      <th>section_title</th>\n",
       "      <th>subsection_title</th>\n",
       "    </tr>\n",
       "  </thead>\n",
       "  <tbody>\n",
       "    <tr>\n",
       "      <th>0</th>\n",
       "      <td>nexora_thermostat_pro_manual.md</td>\n",
       "      <td>6. Advanced Features</td>\n",
       "      <td>Overview</td>\n",
       "    </tr>\n",
       "  </tbody>\n",
       "</table>\n",
       "</div>"
      ],
      "text/plain": [
       "                            source         section_title subsection_title\n",
       "0  nexora_thermostat_pro_manual.md  6. Advanced Features         Overview"
      ]
     },
     "metadata": {},
     "output_type": "display_data"
    },
    {
     "data": {
      "text/markdown": [
       "#### Page Content:"
      ],
      "text/plain": [
       "<IPython.core.display.Markdown object>"
      ]
     },
     "metadata": {},
     "output_type": "display_data"
    },
    {
     "name": "stdout",
     "output_type": "stream",
     "text": [
      "## 6. Advanced Features\n",
      "-   **Adaptive Learning:** During the first week of use, the Thermostat Pro learns your schedule and temperature preferences to build an automatic, energy-saving schedule.\n",
      "-   **Energy Reports:** View detailed daily and monthly energy consumption reports in the app to track your savings and usage patterns.\n",
      "-   **Vacation Mode:** Set a specific temperature range for when you are away to save energy without turning the system completely off.\n",
      "-   **Filter Reminders:** The thermostat tracks your HVAC system's runtime and will remind you when it's time to change the air filter.\n",
      "\n",
      "---\n"
     ]
    },
    {
     "data": {
      "text/markdown": [
       "---"
      ],
      "text/plain": [
       "<IPython.core.display.Markdown object>"
      ]
     },
     "metadata": {},
     "output_type": "display_data"
    },
    {
     "data": {
      "text/markdown": [
       "### 🔮 Chunk 12"
      ],
      "text/plain": [
       "<IPython.core.display.Markdown object>"
      ]
     },
     "metadata": {},
     "output_type": "display_data"
    },
    {
     "data": {
      "text/html": [
       "<div>\n",
       "<style scoped>\n",
       "    .dataframe tbody tr th:only-of-type {\n",
       "        vertical-align: middle;\n",
       "    }\n",
       "\n",
       "    .dataframe tbody tr th {\n",
       "        vertical-align: top;\n",
       "    }\n",
       "\n",
       "    .dataframe thead th {\n",
       "        text-align: right;\n",
       "    }\n",
       "</style>\n",
       "<table border=\"1\" class=\"dataframe\">\n",
       "  <thead>\n",
       "    <tr style=\"text-align: right;\">\n",
       "      <th></th>\n",
       "      <th>source</th>\n",
       "      <th>section_title</th>\n",
       "      <th>subsection_title</th>\n",
       "    </tr>\n",
       "  </thead>\n",
       "  <tbody>\n",
       "    <tr>\n",
       "      <th>0</th>\n",
       "      <td>nexora_thermostat_pro_manual.md</td>\n",
       "      <td>7. In-Depth Troubleshooting</td>\n",
       "      <td>Overview</td>\n",
       "    </tr>\n",
       "  </tbody>\n",
       "</table>\n",
       "</div>"
      ],
      "text/plain": [
       "                            source                section_title  \\\n",
       "0  nexora_thermostat_pro_manual.md  7. In-Depth Troubleshooting   \n",
       "\n",
       "  subsection_title  \n",
       "0         Overview  "
      ]
     },
     "metadata": {},
     "output_type": "display_data"
    },
    {
     "data": {
      "text/markdown": [
       "#### Page Content:"
      ],
      "text/plain": [
       "<IPython.core.display.Markdown object>"
      ]
     },
     "metadata": {},
     "output_type": "display_data"
    },
    {
     "name": "stdout",
     "output_type": "stream",
     "text": [
      "## 7. In-Depth Troubleshooting\n",
      "| Symptom / Error Code | Possible Cause(s)                                   | Solution / Action                                                                                                                                                             |\n",
      "| -------------------- | --------------------------------------------------- | ----------------------------------------------------------------------------------------------------------------------------------------------------------------------------- |\n",
      "| Display is blank     | No power from HVAC system; C-wire not connected properly. | 1. Ensure the HVAC circuit breaker is ON. 2. Double-check that all wires, especially **R** and **C**, are securely seated in the terminals. 3. Confirm your HVAC drip pan or drain is not clogged, as this can trigger a safety shut-off switch. |\n",
      "| Wi-Fi won't connect (Error E1) | Incorrect password; Router issue; 5 GHz network selected. | 1. Verify your Wi-Fi password is correct. 2. Ensure you are connecting to a **2.4 GHz** network, not 5 GHz. 3. Reboot your router by unplugging it for 30 seconds. 4. Move your router closer to the thermostat if the signal is weak. |\n",
      "| Heating/Cooling won't turn on | Incorrect wiring; System configuration error. | 1. Re-check your wiring against the photo of your old thermostat. Ensure the `W` wire is in the `W` terminal and `Y` is in the `Y` terminal. 2. Go to `App Settings > Thermostat > System Configuration` and verify your HVAC type is set correctly. |\n",
      "| Temperature seems inaccurate | Thermostat needs calibration; Drafts or direct sunlight. | 1. Go to `App Settings > Calibration` and adjust the temperature offset. 2. Ensure the thermostat is not located in direct sunlight, near a window, or in a drafty area, as this will affect its readings. |\n",
      "| Screen is frozen or unresponsive | Temporary software glitch. | Press and hold the physical reset button on the side of the display unit for 15 seconds until the screen reboots. This will not erase your settings. |\n",
      "| Short Cycling (HVAC turns on/off rapidly) | Advanced setting misconfiguration. | This can damage your HVAC system. In the app, go to `Settings > Advanced > Cycle Rate` and ensure it is set to the recommended value for your system type (e.g., 5 cycles/hour for forced air). If unsure, contact a professional. |\n",
      "\n",
      "---\n"
     ]
    },
    {
     "data": {
      "text/markdown": [
       "---"
      ],
      "text/plain": [
       "<IPython.core.display.Markdown object>"
      ]
     },
     "metadata": {},
     "output_type": "display_data"
    },
    {
     "data": {
      "text/markdown": [
       "### 🔮 Chunk 13"
      ],
      "text/plain": [
       "<IPython.core.display.Markdown object>"
      ]
     },
     "metadata": {},
     "output_type": "display_data"
    },
    {
     "data": {
      "text/html": [
       "<div>\n",
       "<style scoped>\n",
       "    .dataframe tbody tr th:only-of-type {\n",
       "        vertical-align: middle;\n",
       "    }\n",
       "\n",
       "    .dataframe tbody tr th {\n",
       "        vertical-align: top;\n",
       "    }\n",
       "\n",
       "    .dataframe thead th {\n",
       "        text-align: right;\n",
       "    }\n",
       "</style>\n",
       "<table border=\"1\" class=\"dataframe\">\n",
       "  <thead>\n",
       "    <tr style=\"text-align: right;\">\n",
       "      <th></th>\n",
       "      <th>source</th>\n",
       "      <th>section_title</th>\n",
       "      <th>subsection_title</th>\n",
       "    </tr>\n",
       "  </thead>\n",
       "  <tbody>\n",
       "    <tr>\n",
       "      <th>0</th>\n",
       "      <td>nexora_thermostat_pro_manual.md</td>\n",
       "      <td>8. Technical Specifications</td>\n",
       "      <td>Overview</td>\n",
       "    </tr>\n",
       "  </tbody>\n",
       "</table>\n",
       "</div>"
      ],
      "text/plain": [
       "                            source                section_title  \\\n",
       "0  nexora_thermostat_pro_manual.md  8. Technical Specifications   \n",
       "\n",
       "  subsection_title  \n",
       "0         Overview  "
      ]
     },
     "metadata": {},
     "output_type": "display_data"
    },
    {
     "data": {
      "text/markdown": [
       "#### Page Content:"
      ],
      "text/plain": [
       "<IPython.core.display.Markdown object>"
      ]
     },
     "metadata": {},
     "output_type": "display_data"
    },
    {
     "name": "stdout",
     "output_type": "stream",
     "text": [
      "## 8. Technical Specifications\n",
      "-   **Power Requirement:** 24V AC via terminals `R` and `C`\n",
      "-   **Wire Terminal Compatibility:** R, Rc, Rh, C, W, W2, Y, Y2, G, O/B\n",
      "-   **Display:** 4-inch, 480x480 pixel color LCD touchscreen\n",
      "-   **Sensors:** Temperature, Humidity, Proximity\n",
      "-   **Connectivity:** Wi-Fi 802.11 b/g/n @ 2.4GHz, Bluetooth 5.0\n",
      "-   **Operating Temperature:** 0°C to 50°C (32°F to 122°F)\n",
      "-   **Certifications:** UL, FCC, IC\n",
      "\n",
      "---\n"
     ]
    },
    {
     "data": {
      "text/markdown": [
       "---"
      ],
      "text/plain": [
       "<IPython.core.display.Markdown object>"
      ]
     },
     "metadata": {},
     "output_type": "display_data"
    },
    {
     "data": {
      "text/markdown": [
       "### 🔮 Chunk 14"
      ],
      "text/plain": [
       "<IPython.core.display.Markdown object>"
      ]
     },
     "metadata": {},
     "output_type": "display_data"
    },
    {
     "data": {
      "text/html": [
       "<div>\n",
       "<style scoped>\n",
       "    .dataframe tbody tr th:only-of-type {\n",
       "        vertical-align: middle;\n",
       "    }\n",
       "\n",
       "    .dataframe tbody tr th {\n",
       "        vertical-align: top;\n",
       "    }\n",
       "\n",
       "    .dataframe thead th {\n",
       "        text-align: right;\n",
       "    }\n",
       "</style>\n",
       "<table border=\"1\" class=\"dataframe\">\n",
       "  <thead>\n",
       "    <tr style=\"text-align: right;\">\n",
       "      <th></th>\n",
       "      <th>source</th>\n",
       "      <th>section_title</th>\n",
       "      <th>subsection_title</th>\n",
       "    </tr>\n",
       "  </thead>\n",
       "  <tbody>\n",
       "    <tr>\n",
       "      <th>0</th>\n",
       "      <td>nexora_thermostat_pro_manual.md</td>\n",
       "      <td>9. Warranty &amp; Support</td>\n",
       "      <td>Overview</td>\n",
       "    </tr>\n",
       "  </tbody>\n",
       "</table>\n",
       "</div>"
      ],
      "text/plain": [
       "                            source          section_title subsection_title\n",
       "0  nexora_thermostat_pro_manual.md  9. Warranty & Support         Overview"
      ]
     },
     "metadata": {},
     "output_type": "display_data"
    },
    {
     "data": {
      "text/markdown": [
       "#### Page Content:"
      ],
      "text/plain": [
       "<IPython.core.display.Markdown object>"
      ]
     },
     "metadata": {},
     "output_type": "display_data"
    },
    {
     "name": "stdout",
     "output_type": "stream",
     "text": [
      "## 9. Warranty & Support\n",
      "-   **Warranty:** Nexora provides a **2-year limited manufacturer's warranty** from the date of purchase. This covers defects in materials and workmanship. Damage from improper installation, power surges, or physical abuse is not covered.\n",
      "-   **Support:** For our full knowledge base, video tutorials, and to submit a support ticket, please visit **www.nexoraelectronics.com/support**. For urgent assistance, call **1800-123-NEXORA**.\n",
      "-   **Requirement:** Proof of purchase (receipt or order confirmation) is required to initiate any warranty service.\n"
     ]
    },
    {
     "data": {
      "text/markdown": [
       "---"
      ],
      "text/plain": [
       "<IPython.core.display.Markdown object>"
      ]
     },
     "metadata": {},
     "output_type": "display_data"
    }
   ],
   "source": [
    "# ==============================================================================\n",
    "#  UPDATED JUPYTER NOTEBOOK FOR VISUALIZING HIERARCHICAL CHUNKING\n",
    "# ==============================================================================\n",
    "\n",
    "import os\n",
    "import re\n",
    "from langchain.docstore.document import Document\n",
    "import pandas as pd\n",
    "from IPython.display import display, Markdown\n",
    "\n",
    "# --- 1. The New, More Robust Chunking Function ---\n",
    "# This is the exact same function from your updated ingest.py in the Canvas.\n",
    "def chunk_markdown_hierarchically(markdown_text: str, source: str) -> list[Document]:\n",
    "    \"\"\"\n",
    "    A more robust chunking function for Markdown files that handles both ## and ### headers,\n",
    "    creating a hierarchy in the metadata.\n",
    "    \"\"\"\n",
    "    sections = re.split(r'\\n## ', markdown_text)\n",
    "    documents = []\n",
    "\n",
    "    header_section = sections[0]\n",
    "    if header_section.strip():\n",
    "        main_title = header_section.split('\\n', 1)[0].replace('# ', '').strip()\n",
    "        documents.append(Document(\n",
    "            page_content=header_section.strip(),\n",
    "            metadata={\"source\": source, \"section_title\": main_title, \"subsection_title\": \"Introduction\"}\n",
    "        ))\n",
    "\n",
    "    for section in sections[1:]:\n",
    "        if not section.strip(): continue\n",
    "        main_title = section.split('\\n', 1)[0].strip()\n",
    "        subsections = re.split(r'\\n### ', section)\n",
    "        section_intro_content = subsections[0].split('\\n', 1)[1].strip()\n",
    "        \n",
    "        if section_intro_content:\n",
    "            documents.append(Document(\n",
    "                page_content=f\"## {main_title}\\n{section_intro_content}\",\n",
    "                metadata={\"source\": source, \"section_title\": main_title, \"subsection_title\": \"Overview\"}\n",
    "            ))\n",
    "\n",
    "        for subsection in subsections[1:]:\n",
    "            if not subsection.strip(): continue\n",
    "            parts = subsection.split('\\n', 1)\n",
    "            sub_title = parts[0].strip()\n",
    "            content = parts[1].strip() if len(parts) > 1 else \"\"\n",
    "            full_content = f\"### {sub_title}\\n{content}\"\n",
    "            documents.append(Document(\n",
    "                page_content=full_content,\n",
    "                metadata={\"source\": source, \"section_title\": main_title, \"subsection_title\": sub_title}\n",
    "            ))\n",
    "            \n",
    "    return documents\n",
    "\n",
    "# --- 2. Load a Real Manual File for Testing ---\n",
    "# We point it to the parent directory to find the data folder.\n",
    "manual_file_path = \"../data/manuals/nexora_thermostat_pro_manual.md\"\n",
    "source_filename = os.path.basename(manual_file_path)\n",
    "\n",
    "with open(manual_file_path, 'r', encoding='utf-8') as f:\n",
    "    markdown_content = f.read()\n",
    "\n",
    "print(f\"Loaded content from: {source_filename}\\n\")\n",
    "\n",
    "# --- 3. Execute and Visualize the New Chunking ---\n",
    "chunked_documents = chunk_markdown_hierarchically(markdown_content, source_filename)\n",
    "\n",
    "print(f\"✅ Successfully split the document into {len(chunked_documents)} hierarchical chunks.\\n\")\n",
    "\n",
    "# --- Display the results in a clean, readable format ---\n",
    "for i, doc in enumerate(chunked_documents):\n",
    "    display(Markdown(f\"### 🔮 Chunk {i+1}\"))\n",
    "    \n",
    "    # Create a DataFrame to display the new, richer metadata\n",
    "    meta_df = pd.DataFrame([doc.metadata])\n",
    "    display(meta_df)\n",
    "    \n",
    "    # Display the actual content of the chunk\n",
    "    display(Markdown(\"#### Page Content:\"))\n",
    "    print(doc.page_content)\n",
    "    display(Markdown(\"---\"))\n"
   ]
  },
  {
   "cell_type": "code",
   "execution_count": null,
   "id": "81b9cd27",
   "metadata": {},
   "outputs": [],
   "source": []
  }
 ],
 "metadata": {
  "kernelspec": {
   "display_name": "nexora_env",
   "language": "python",
   "name": "python3"
  },
  "language_info": {
   "codemirror_mode": {
    "name": "ipython",
    "version": 3
   },
   "file_extension": ".py",
   "mimetype": "text/x-python",
   "name": "python",
   "nbconvert_exporter": "python",
   "pygments_lexer": "ipython3",
   "version": "3.10.18"
  }
 },
 "nbformat": 4,
 "nbformat_minor": 5
}
