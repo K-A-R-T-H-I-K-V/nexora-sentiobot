{
 "cells": [
  {
   "cell_type": "code",
   "execution_count": 1,
   "id": "23feaad0",
   "metadata": {},
   "outputs": [
    {
     "name": "stderr",
     "output_type": "stream",
     "text": [
      "c:\\Users\\karth\\anaconda3\\envs\\nexora_env\\lib\\site-packages\\tqdm\\auto.py:21: TqdmWarning: IProgress not found. Please update jupyter and ipywidgets. See https://ipywidgets.readthedocs.io/en/stable/user_install.html\n",
      "  from .autonotebook import tqdm as notebook_tqdm\n"
     ]
    },
    {
     "name": "stdout",
     "output_type": "stream",
     "text": [
      "Loading existing vector database...\n",
      "Database loaded successfully.\n",
      "Retriever created. It will fetch the top 5 most relevant chunks.\n"
     ]
    },
    {
     "data": {
      "text/markdown": [
       "## 🧪 Query 1: 'How do I reset my thermostat?'"
      ],
      "text/plain": [
       "<IPython.core.display.Markdown object>"
      ]
     },
     "metadata": {},
     "output_type": "display_data"
    },
    {
     "data": {
      "text/markdown": [
       "### 🎯 Retrieved Chunk 1/5"
      ],
      "text/plain": [
       "<IPython.core.display.Markdown object>"
      ]
     },
     "metadata": {},
     "output_type": "display_data"
    },
    {
     "name": "stdout",
     "output_type": "stream",
     "text": [
      "**Source:** How do I reset my Thermostat Pro?\n",
      "**Section:** N/A\n",
      "\n",
      "**Content Preview:**\n",
      "Question: How do I reset my Thermostat Pro?\n",
      "Answer: Press and hold the reset button for 10 seconds until the screen blinks, then release.\n",
      "--------------------------------------------------\n"
     ]
    },
    {
     "data": {
      "text/markdown": [
       "### 🎯 Retrieved Chunk 2/5"
      ],
      "text/plain": [
       "<IPython.core.display.Markdown object>"
      ]
     },
     "metadata": {},
     "output_type": "display_data"
    },
    {
     "name": "stdout",
     "output_type": "stream",
     "text": [
      "**Source:** nexora_thermostat_pro_manual.md\n",
      "**Section:** Nexora Thermostat Pro – User Manual\n",
      "\n",
      "**Content Preview:**\n",
      "# Nexora Thermostat Pro – User Manual\n",
      "--------------------------------------------------\n"
     ]
    },
    {
     "data": {
      "text/markdown": [
       "### 🎯 Retrieved Chunk 3/5"
      ],
      "text/plain": [
       "<IPython.core.display.Markdown object>"
      ]
     },
     "metadata": {},
     "output_type": "display_data"
    },
    {
     "name": "stdout",
     "output_type": "stream",
     "text": [
      "**Source:** nexora_thermostat_pro_manual.md\n",
      "**Section:** Installation Guide\n",
      "\n",
      "**Content Preview:**\n",
      "## Installation Guide\n",
      "*Tools Required:* Screwdriver, Drill (if required), Smartphone with Nexora App.\n",
      "\n",
      "1. Power off your HVAC system from the main switch.\n",
      "2. Remove your old thermostat carefully, labeling each wire.\n",
      "3. Mount the *Thermostat Pro base plate* on the wall.\n",
      "4. Connect the wires according to the labeled terminals (see wiring diagram).\n",
      "5. Snap the Thermostat Pro display onto the base.\n",
      "6. Turn power back on and check display activation.\n",
      "\n",
      "---\n",
      "--------------------------------------------------\n"
     ]
    },
    {
     "data": {
      "text/markdown": [
       "### 🎯 Retrieved Chunk 4/5"
      ],
      "text/plain": [
       "<IPython.core.display.Markdown object>"
      ]
     },
     "metadata": {},
     "output_type": "display_data"
    },
    {
     "name": "stdout",
     "output_type": "stream",
     "text": [
      "**Source:** How do I update the firmware on my Thermostat Pro?\n",
      "**Section:** N/A\n",
      "\n",
      "**Content Preview:**\n",
      "Question: How do I update the firmware on my Thermostat Pro?\n",
      "Answer: Go to the Nexora app > Settings > Device > Update Firmware.\n",
      "--------------------------------------------------\n"
     ]
    },
    {
     "data": {
      "text/markdown": [
       "### 🎯 Retrieved Chunk 5/5"
      ],
      "text/plain": [
       "<IPython.core.display.Markdown object>"
      ]
     },
     "metadata": {},
     "output_type": "display_data"
    },
    {
     "name": "stdout",
     "output_type": "stream",
     "text": [
      "**Source:** Why is my Thermostat Pro screen blank?\n",
      "**Section:** N/A\n",
      "\n",
      "**Content Preview:**\n",
      "Question: Why is my Thermostat Pro screen blank?\n",
      "Answer: Check if itâ€™s properly powered. If not, ensure your wiring is correct or contact support.\n",
      "--------------------------------------------------\n"
     ]
    },
    {
     "data": {
      "text/markdown": [
       "---"
      ],
      "text/plain": [
       "<IPython.core.display.Markdown object>"
      ]
     },
     "metadata": {},
     "output_type": "display_data"
    },
    {
     "data": {
      "text/markdown": [
       "## 🧪 Query 2: 'My light is flickering, what should I do?'"
      ],
      "text/plain": [
       "<IPython.core.display.Markdown object>"
      ]
     },
     "metadata": {},
     "output_type": "display_data"
    },
    {
     "data": {
      "text/markdown": [
       "### 🎯 Retrieved Chunk 1/5"
      ],
      "text/plain": [
       "<IPython.core.display.Markdown object>"
      ]
     },
     "metadata": {},
     "output_type": "display_data"
    },
    {
     "name": "stdout",
     "output_type": "stream",
     "text": [
      "**Source:** Why are my smart lights flickering?\n",
      "**Section:** N/A\n",
      "\n",
      "**Content Preview:**\n",
      "Question: Why are my smart lights flickering?\n",
      "Answer: Ensure a stable WiFi connection, check the bulb is properly seated, and update firmware.\n",
      "--------------------------------------------------\n"
     ]
    },
    {
     "data": {
      "text/markdown": [
       "### 🎯 Retrieved Chunk 2/5"
      ],
      "text/plain": [
       "<IPython.core.display.Markdown object>"
      ]
     },
     "metadata": {},
     "output_type": "display_data"
    },
    {
     "name": "stdout",
     "output_type": "stream",
     "text": [
      "**Source:** lumiglow_smart_lighting_manual.md\n",
      "**Section:** Installation Guide\n",
      "\n",
      "**Content Preview:**\n",
      "## Installation Guide\n",
      "1. Turn off the light switch.  \n",
      "2. Screw the LumiGlow bulb into the socket.  \n",
      "3. Turn on the switch – the bulb should blink (pairing mode).  \n",
      "\n",
      "---\n",
      "--------------------------------------------------\n"
     ]
    },
    {
     "data": {
      "text/markdown": [
       "### 🎯 Retrieved Chunk 3/5"
      ],
      "text/plain": [
       "<IPython.core.display.Markdown object>"
      ]
     },
     "metadata": {},
     "output_type": "display_data"
    },
    {
     "name": "stdout",
     "output_type": "stream",
     "text": [
      "**Source:** lumiglow_smart_lighting_manual.md\n",
      "**Section:** Troubleshooting\n",
      "\n",
      "**Content Preview:**\n",
      "## Troubleshooting\n",
      "- *Light not entering pairing mode:* Switch off/on 3 times quickly.  \n",
      "- *App not finding bulb:* Ensure 2.4 GHz WiFi, keep phone close.  \n",
      "- *Color mismatch:* Update firmware in App > Device Settings.  \n",
      "- *Light flickering:* Check socket connection and power stability.  \n",
      "\n",
      "---\n",
      "--------------------------------------------------\n"
     ]
    },
    {
     "data": {
      "text/markdown": [
       "### 🎯 Retrieved Chunk 4/5"
      ],
      "text/plain": [
       "<IPython.core.display.Markdown object>"
      ]
     },
     "metadata": {},
     "output_type": "display_data"
    },
    {
     "name": "stdout",
     "output_type": "stream",
     "text": [
      "**Source:** How do I reset my smart light?\n",
      "**Section:** N/A\n",
      "\n",
      "**Content Preview:**\n",
      "Question: How do I reset my smart light?\n",
      "Answer: Turn the light on and off 5 times rapidly until it blinks, then re-pair via the app.\n",
      "--------------------------------------------------\n"
     ]
    },
    {
     "data": {
      "text/markdown": [
       "### 🎯 Retrieved Chunk 5/5"
      ],
      "text/plain": [
       "<IPython.core.display.Markdown object>"
      ]
     },
     "metadata": {},
     "output_type": "display_data"
    },
    {
     "name": "stdout",
     "output_type": "stream",
     "text": [
      "**Source:** visionsphere_360_manual.md\n",
      "**Section:** Troubleshooting\n",
      "\n",
      "**Content Preview:**\n",
      "## Troubleshooting\n",
      "- *Camera not connecting:* Reset by pressing the reset pin for 5s.  \n",
      "- *Night vision blurry:* Clean the lens, check IR LEDs.  \n",
      "- *App not showing video feed:* Ensure strong WiFi or reconnect camera.  \n",
      "- *Motion alerts too frequent:* Adjust sensitivity in Settings.  \n",
      "\n",
      "---\n",
      "--------------------------------------------------\n"
     ]
    },
    {
     "data": {
      "text/markdown": [
       "---"
      ],
      "text/plain": [
       "<IPython.core.display.Markdown object>"
      ]
     },
     "metadata": {},
     "output_type": "display_data"
    },
    {
     "data": {
      "text/markdown": [
       "## 🧪 Query 3: 'What is the warranty period for my camera?'"
      ],
      "text/plain": [
       "<IPython.core.display.Markdown object>"
      ]
     },
     "metadata": {},
     "output_type": "display_data"
    },
    {
     "data": {
      "text/markdown": [
       "### 🎯 Retrieved Chunk 1/5"
      ],
      "text/plain": [
       "<IPython.core.display.Markdown object>"
      ]
     },
     "metadata": {},
     "output_type": "display_data"
    },
    {
     "name": "stdout",
     "output_type": "stream",
     "text": [
      "**Source:** What is the warranty period for the Thermostat Pro?\n",
      "**Section:** N/A\n",
      "\n",
      "**Content Preview:**\n",
      "Question: What is the warranty period for the Thermostat Pro?\n",
      "Answer: The Thermostat Pro comes with a 2-year limited warranty.\n",
      "--------------------------------------------------\n"
     ]
    },
    {
     "data": {
      "text/markdown": [
       "### 🎯 Retrieved Chunk 2/5"
      ],
      "text/plain": [
       "<IPython.core.display.Markdown object>"
      ]
     },
     "metadata": {},
     "output_type": "display_data"
    },
    {
     "name": "stdout",
     "output_type": "stream",
     "text": [
      "**Source:** nexora_thermostat_pro_manual.md\n",
      "**Section:** Warranty & Support\n",
      "\n",
      "**Content Preview:**\n",
      "## Warranty & Support\n",
      "- *Warranty:* 2 years standard manufacturer warranty.  \n",
      "- *Support:* Visit [www.nexoraelectronics.com/support](#) or call 1800-123-NEXORA.  \n",
      "- Proof of purchase required for service.\n",
      "--------------------------------------------------\n"
     ]
    },
    {
     "data": {
      "text/markdown": [
       "### 🎯 Retrieved Chunk 3/5"
      ],
      "text/plain": [
       "<IPython.core.display.Markdown object>"
      ]
     },
     "metadata": {},
     "output_type": "display_data"
    },
    {
     "name": "stdout",
     "output_type": "stream",
     "text": [
      "**Source:** What is the standard warranty on Nexora products?\n",
      "**Section:** N/A\n",
      "\n",
      "**Content Preview:**\n",
      "Question: What is the standard warranty on Nexora products?\n",
      "Answer: All Nexora products come with a 2-year limited warranty covering manufacturing defects.\n",
      "--------------------------------------------------\n"
     ]
    },
    {
     "data": {
      "text/markdown": [
       "### 🎯 Retrieved Chunk 4/5"
      ],
      "text/plain": [
       "<IPython.core.display.Markdown object>"
      ]
     },
     "metadata": {},
     "output_type": "display_data"
    },
    {
     "name": "stdout",
     "output_type": "stream",
     "text": [
      "**Source:** lumiglow_smart_lighting_manual.md\n",
      "**Section:** Warranty & Support\n",
      "\n",
      "**Content Preview:**\n",
      "## Warranty & Support\n",
      "- *Warranty:* 1 year limited warranty.  \n",
      "- *Support:* [www.nexoraelectronics.com/support](#) or 1800-123-NEXORA.\n",
      "--------------------------------------------------\n"
     ]
    },
    {
     "data": {
      "text/markdown": [
       "### 🎯 Retrieved Chunk 5/5"
      ],
      "text/plain": [
       "<IPython.core.display.Markdown object>"
      ]
     },
     "metadata": {},
     "output_type": "display_data"
    },
    {
     "name": "stdout",
     "output_type": "stream",
     "text": [
      "**Source:** visionsphere_360_manual.md\n",
      "**Section:** Warranty & Support\n",
      "\n",
      "**Content Preview:**\n",
      "## Warranty & Support\n",
      "- *Warranty:* 1 year manufacturer warranty.  \n",
      "- *Support:* [www.nexoraelectronics.com/support](#) or 1800-123-NEXORA.\n",
      "--------------------------------------------------\n"
     ]
    },
    {
     "data": {
      "text/markdown": [
       "---"
      ],
      "text/plain": [
       "<IPython.core.display.Markdown object>"
      ]
     },
     "metadata": {},
     "output_type": "display_data"
    },
    {
     "data": {
      "text/markdown": [
       "## 🧪 Query 4: 'Tell me about the key features of the LumiGlow light.'"
      ],
      "text/plain": [
       "<IPython.core.display.Markdown object>"
      ]
     },
     "metadata": {},
     "output_type": "display_data"
    },
    {
     "data": {
      "text/markdown": [
       "### 🎯 Retrieved Chunk 1/5"
      ],
      "text/plain": [
       "<IPython.core.display.Markdown object>"
      ]
     },
     "metadata": {},
     "output_type": "display_data"
    },
    {
     "name": "stdout",
     "output_type": "stream",
     "text": [
      "**Source:** lumiglow_smart_lighting_manual.md\n",
      "**Section:** Introduction\n",
      "\n",
      "**Content Preview:**\n",
      "## Introduction\n",
      "The *LumiGlow Smart Light* combines smart technology with vibrant illumination. Control brightness, color, and schedules from anywhere.\n",
      "\n",
      "*Key Features:*\n",
      "- 16M+ RGB color options\n",
      "- Adjustable brightness (0–100%)\n",
      "- Voice control via Alexa/Google/Nexora App\n",
      "- Energy efficient LED design\n",
      "- Group control for multiple lights\n",
      "\n",
      "---\n",
      "--------------------------------------------------\n"
     ]
    },
    {
     "data": {
      "text/markdown": [
       "### 🎯 Retrieved Chunk 2/5"
      ],
      "text/plain": [
       "<IPython.core.display.Markdown object>"
      ]
     },
     "metadata": {},
     "output_type": "display_data"
    },
    {
     "name": "stdout",
     "output_type": "stream",
     "text": [
      "**Source:** lumiglow_smart_lighting_manual.md\n",
      "**Section:** Nexora LumiGlow Smart Light – User Manual\n",
      "\n",
      "**Content Preview:**\n",
      "# Nexora LumiGlow Smart Light – User Manual\n",
      "--------------------------------------------------\n"
     ]
    },
    {
     "data": {
      "text/markdown": [
       "### 🎯 Retrieved Chunk 3/5"
      ],
      "text/plain": [
       "<IPython.core.display.Markdown object>"
      ]
     },
     "metadata": {},
     "output_type": "display_data"
    },
    {
     "name": "stdout",
     "output_type": "stream",
     "text": [
      "**Source:** lumiglow_smart_lighting_manual.md\n",
      "**Section:** Installation Guide\n",
      "\n",
      "**Content Preview:**\n",
      "## Installation Guide\n",
      "1. Turn off the light switch.  \n",
      "2. Screw the LumiGlow bulb into the socket.  \n",
      "3. Turn on the switch – the bulb should blink (pairing mode).  \n",
      "\n",
      "---\n",
      "--------------------------------------------------\n"
     ]
    },
    {
     "data": {
      "text/markdown": [
       "### 🎯 Retrieved Chunk 4/5"
      ],
      "text/plain": [
       "<IPython.core.display.Markdown object>"
      ]
     },
     "metadata": {},
     "output_type": "display_data"
    },
    {
     "name": "stdout",
     "output_type": "stream",
     "text": [
      "**Source:** lumiglow_smart_lighting_manual.md\n",
      "**Section:** Technical Specifications\n",
      "\n",
      "**Content Preview:**\n",
      "## Technical Specifications\n",
      "- *Wattage:* 9W LED (equivalent to 60W incandescent)  \n",
      "- *Connectivity:* WiFi 2.4GHz, Bluetooth Mesh  \n",
      "- *Color Options:* 16 million+ RGB  \n",
      "- *Lifespan:* 25,000 hours  \n",
      "- *Socket:* E27 standard  \n",
      "\n",
      "---\n",
      "--------------------------------------------------\n"
     ]
    },
    {
     "data": {
      "text/markdown": [
       "### 🎯 Retrieved Chunk 5/5"
      ],
      "text/plain": [
       "<IPython.core.display.Markdown object>"
      ]
     },
     "metadata": {},
     "output_type": "display_data"
    },
    {
     "name": "stdout",
     "output_type": "stream",
     "text": [
      "**Source:** visionsphere_360_manual.md\n",
      "**Section:** Technical Specifications\n",
      "\n",
      "**Content Preview:**\n",
      "## Technical Specifications\n",
      "- *Resolution:* 1080p Full HD  \n",
      "- *Field of View:* 360° panoramic lens  \n",
      "- *Night Vision:* Up to 10m infrared  \n",
      "- *Connectivity:* WiFi 2.4GHz  \n",
      "- *Audio:* Built-in mic & speaker (two-way)  \n",
      "- *Storage:* Cloud + microSD up to 128GB  \n",
      "- *Dimensions:* 75mm x 75mm x 100mm  \n",
      "\n",
      "---\n",
      "--------------------------------------------------\n"
     ]
    },
    {
     "data": {
      "text/markdown": [
       "---"
      ],
      "text/plain": [
       "<IPython.core.display.Markdown object>"
      ]
     },
     "metadata": {},
     "output_type": "display_data"
    },
    {
     "data": {
      "text/markdown": [
       "## 🧪 Query 5: 'The app can't find my smart bulb during setup.'"
      ],
      "text/plain": [
       "<IPython.core.display.Markdown object>"
      ]
     },
     "metadata": {},
     "output_type": "display_data"
    },
    {
     "data": {
      "text/markdown": [
       "### 🎯 Retrieved Chunk 1/5"
      ],
      "text/plain": [
       "<IPython.core.display.Markdown object>"
      ]
     },
     "metadata": {},
     "output_type": "display_data"
    },
    {
     "name": "stdout",
     "output_type": "stream",
     "text": [
      "**Source:** How do I set up the Nexora Smart Lights?\n",
      "**Section:** N/A\n",
      "\n",
      "**Content Preview:**\n",
      "Question: How do I set up the Nexora Smart Lights?\n",
      "Answer: Screw in the bulb, power it on, and connect through the Nexora app following the onboarding flow.\n",
      "--------------------------------------------------\n"
     ]
    },
    {
     "data": {
      "text/markdown": [
       "### 🎯 Retrieved Chunk 2/5"
      ],
      "text/plain": [
       "<IPython.core.display.Markdown object>"
      ]
     },
     "metadata": {},
     "output_type": "display_data"
    },
    {
     "name": "stdout",
     "output_type": "stream",
     "text": [
      "**Source:** Why canâ€™t my smart light connect to WiFi?\n",
      "**Section:** N/A\n",
      "\n",
      "**Content Preview:**\n",
      "Question: Why canâ€™t my smart light connect to WiFi?\n",
      "Answer: Ensure the bulb is within WiFi range, your network is 2.4GHz, and the bulb is in pairing mode.\n",
      "--------------------------------------------------\n"
     ]
    },
    {
     "data": {
      "text/markdown": [
       "### 🎯 Retrieved Chunk 3/5"
      ],
      "text/plain": [
       "<IPython.core.display.Markdown object>"
      ]
     },
     "metadata": {},
     "output_type": "display_data"
    },
    {
     "name": "stdout",
     "output_type": "stream",
     "text": [
      "**Source:** How do I reset my smart light?\n",
      "**Section:** N/A\n",
      "\n",
      "**Content Preview:**\n",
      "Question: How do I reset my smart light?\n",
      "Answer: Turn the light on and off 5 times rapidly until it blinks, then re-pair via the app.\n",
      "--------------------------------------------------\n"
     ]
    },
    {
     "data": {
      "text/markdown": [
       "### 🎯 Retrieved Chunk 4/5"
      ],
      "text/plain": [
       "<IPython.core.display.Markdown object>"
      ]
     },
     "metadata": {},
     "output_type": "display_data"
    },
    {
     "name": "stdout",
     "output_type": "stream",
     "text": [
      "**Source:** lumiglow_smart_lighting_manual.md\n",
      "**Section:** Troubleshooting\n",
      "\n",
      "**Content Preview:**\n",
      "## Troubleshooting\n",
      "- *Light not entering pairing mode:* Switch off/on 3 times quickly.  \n",
      "- *App not finding bulb:* Ensure 2.4 GHz WiFi, keep phone close.  \n",
      "- *Color mismatch:* Update firmware in App > Device Settings.  \n",
      "- *Light flickering:* Check socket connection and power stability.  \n",
      "\n",
      "---\n",
      "--------------------------------------------------\n"
     ]
    },
    {
     "data": {
      "text/markdown": [
       "### 🎯 Retrieved Chunk 5/5"
      ],
      "text/plain": [
       "<IPython.core.display.Markdown object>"
      ]
     },
     "metadata": {},
     "output_type": "display_data"
    },
    {
     "name": "stdout",
     "output_type": "stream",
     "text": [
      "**Source:** lumiglow_smart_lighting_manual.md\n",
      "**Section:** Installation Guide\n",
      "\n",
      "**Content Preview:**\n",
      "## Installation Guide\n",
      "1. Turn off the light switch.  \n",
      "2. Screw the LumiGlow bulb into the socket.  \n",
      "3. Turn on the switch – the bulb should blink (pairing mode).  \n",
      "\n",
      "---\n",
      "--------------------------------------------------\n"
     ]
    },
    {
     "data": {
      "text/markdown": [
       "---"
      ],
      "text/plain": [
       "<IPython.core.display.Markdown object>"
      ]
     },
     "metadata": {},
     "output_type": "display_data"
    },
    {
     "data": {
      "text/markdown": [
       "## 🧪 Query 6: 'What is the wattage of the LumiGlow bulb?'"
      ],
      "text/plain": [
       "<IPython.core.display.Markdown object>"
      ]
     },
     "metadata": {},
     "output_type": "display_data"
    },
    {
     "data": {
      "text/markdown": [
       "### 🎯 Retrieved Chunk 1/5"
      ],
      "text/plain": [
       "<IPython.core.display.Markdown object>"
      ]
     },
     "metadata": {},
     "output_type": "display_data"
    },
    {
     "name": "stdout",
     "output_type": "stream",
     "text": [
      "**Source:** lumiglow_smart_lighting_manual.md\n",
      "**Section:** Technical Specifications\n",
      "\n",
      "**Content Preview:**\n",
      "## Technical Specifications\n",
      "- *Wattage:* 9W LED (equivalent to 60W incandescent)  \n",
      "- *Connectivity:* WiFi 2.4GHz, Bluetooth Mesh  \n",
      "- *Color Options:* 16 million+ RGB  \n",
      "- *Lifespan:* 25,000 hours  \n",
      "- *Socket:* E27 standard  \n",
      "\n",
      "---\n",
      "--------------------------------------------------\n"
     ]
    },
    {
     "data": {
      "text/markdown": [
       "### 🎯 Retrieved Chunk 2/5"
      ],
      "text/plain": [
       "<IPython.core.display.Markdown object>"
      ]
     },
     "metadata": {},
     "output_type": "display_data"
    },
    {
     "name": "stdout",
     "output_type": "stream",
     "text": [
      "**Source:** lumiglow_smart_lighting_manual.md\n",
      "**Section:** Safety Notes\n",
      "\n",
      "**Content Preview:**\n",
      "## Safety Notes\n",
      "- For indoor use only unless stated on packaging.  \n",
      "- Do not exceed recommended wattage.  \n",
      "- Install in standard E27 bulb sockets (unless specified).  \n",
      "- Avoid exposure to moisture.  \n",
      "\n",
      "---\n",
      "--------------------------------------------------\n"
     ]
    },
    {
     "data": {
      "text/markdown": [
       "### 🎯 Retrieved Chunk 3/5"
      ],
      "text/plain": [
       "<IPython.core.display.Markdown object>"
      ]
     },
     "metadata": {},
     "output_type": "display_data"
    },
    {
     "name": "stdout",
     "output_type": "stream",
     "text": [
      "**Source:** lumiglow_smart_lighting_manual.md\n",
      "**Section:** Installation Guide\n",
      "\n",
      "**Content Preview:**\n",
      "## Installation Guide\n",
      "1. Turn off the light switch.  \n",
      "2. Screw the LumiGlow bulb into the socket.  \n",
      "3. Turn on the switch – the bulb should blink (pairing mode).  \n",
      "\n",
      "---\n",
      "--------------------------------------------------\n"
     ]
    },
    {
     "data": {
      "text/markdown": [
       "### 🎯 Retrieved Chunk 4/5"
      ],
      "text/plain": [
       "<IPython.core.display.Markdown object>"
      ]
     },
     "metadata": {},
     "output_type": "display_data"
    },
    {
     "name": "stdout",
     "output_type": "stream",
     "text": [
      "**Source:** lumiglow_smart_lighting_manual.md\n",
      "**Section:** Introduction\n",
      "\n",
      "**Content Preview:**\n",
      "## Introduction\n",
      "The *LumiGlow Smart Light* combines smart technology with vibrant illumination. Control brightness, color, and schedules from anywhere.\n",
      "\n",
      "*Key Features:*\n",
      "- 16M+ RGB color options\n",
      "- Adjustable brightness (0–100%)\n",
      "- Voice control via Alexa/Google/Nexora App\n",
      "- Energy efficient LED design\n",
      "- Group control for multiple lights\n",
      "\n",
      "---\n",
      "--------------------------------------------------\n"
     ]
    },
    {
     "data": {
      "text/markdown": [
       "### 🎯 Retrieved Chunk 5/5"
      ],
      "text/plain": [
       "<IPython.core.display.Markdown object>"
      ]
     },
     "metadata": {},
     "output_type": "display_data"
    },
    {
     "name": "stdout",
     "output_type": "stream",
     "text": [
      "**Source:** lumiglow_smart_lighting_manual.md\n",
      "**Section:** Nexora LumiGlow Smart Light – User Manual\n",
      "\n",
      "**Content Preview:**\n",
      "# Nexora LumiGlow Smart Light – User Manual\n",
      "--------------------------------------------------\n"
     ]
    },
    {
     "data": {
      "text/markdown": [
       "---"
      ],
      "text/plain": [
       "<IPython.core.display.Markdown object>"
      ]
     },
     "metadata": {},
     "output_type": "display_data"
    }
   ],
   "source": [
    "# ==============================================================================\n",
    "#  COPY-PASTE THIS ENTIRE BLOCK INTO A JUPYTER NOTEBOOK CELL AND RUN IT\n",
    "# ==============================================================================\n",
    "\n",
    "import os\n",
    "from langchain_chroma import Chroma\n",
    "from langchain_huggingface import HuggingFaceEmbeddings\n",
    "from IPython.display import display, Markdown\n",
    "\n",
    "# --- 1. Load the Existing Vector Database ---\n",
    "# This assumes you are running the notebook from your project's root directory.\n",
    "DB_PATH = \"../vector_db\"\n",
    "PROJECT_ROOT = os.getcwd() # Gets the current working directory\n",
    "\n",
    "if not os.path.exists(DB_PATH):\n",
    "    print(\"ERROR: Vector database not found. Please run 'python scripts/ingest.py' first.\")\n",
    "else:\n",
    "    print(\"Loading existing vector database...\")\n",
    "    embedding_model = HuggingFaceEmbeddings(\n",
    "        model_name=\"all-MiniLM-L6-v2\", model_kwargs={'device': 'cpu'}\n",
    "    )\n",
    "    vector_store = Chroma(persist_directory=DB_PATH, embedding_function=embedding_model)\n",
    "    print(\"Database loaded successfully.\")\n",
    "\n",
    "# --- 2. Create the Retriever ---\n",
    "# This object is responsible for fetching documents. 'k=5' means it will retrieve the top 5 chunks.\n",
    "retriever = vector_store.as_retriever(search_kwargs={'k': 5})\n",
    "print(f\"Retriever created. It will fetch the top {retriever.search_kwargs['k']} most relevant chunks.\")\n",
    "\n",
    "\n",
    "# --- 3. Define a Set of Robust Test Queries ---\n",
    "test_queries = [\n",
    "    \"How do I reset my thermostat?\",\n",
    "    \"My light is flickering, what should I do?\",\n",
    "    \"What is the warranty period for my camera?\",\n",
    "    \"Tell me about the key features of the LumiGlow light.\",\n",
    "    \"The app can't find my smart bulb during setup.\",\n",
    "    \"What is the wattage of the LumiGlow bulb?\",\n",
    "]\n",
    "\n",
    "# --- 4. Execute and Visualize Retrieval Results ---\n",
    "for i, query in enumerate(test_queries):\n",
    "    display(Markdown(f\"## 🧪 Query {i+1}: '{query}'\"))\n",
    "    \n",
    "    # Invoke the retriever to get relevant documents\n",
    "    retrieved_docs = retriever.invoke(query)\n",
    "    \n",
    "    # Display the results\n",
    "    if not retrieved_docs:\n",
    "        print(\"No documents found.\")\n",
    "    else:\n",
    "        for j, doc in enumerate(retrieved_docs):\n",
    "            display(Markdown(f\"### 🎯 Retrieved Chunk {j+1}/{len(retrieved_docs)}\"))\n",
    "            \n",
    "            # Display the metadata for context\n",
    "            metadata = doc.metadata\n",
    "            print(f\"**Source:** {metadata.get('source', 'N/A')}\")\n",
    "            print(f\"**Section:** {metadata.get('section_title', 'N/A')}\")\n",
    "            \n",
    "            # Display the page content (truncated for readability)\n",
    "            content = doc.page_content\n",
    "            print(\"\\n**Content Preview:**\")\n",
    "            print(content[:500] + \"...\" if len(content) > 500 else content)\n",
    "            print(\"-\" * 50)\n",
    "    \n",
    "    display(Markdown(\"---\"))"
   ]
  },
  {
   "cell_type": "code",
   "execution_count": 2,
   "id": "8418bcaa",
   "metadata": {},
   "outputs": [
    {
     "name": "stdout",
     "output_type": "stream",
     "text": [
      "--- Test 1: Direct Database Interaction ---\n",
      "Loading embedding model...\n",
      "Connecting to ChromaDB...\n",
      "\n",
      "Performing a direct similarity search for: 'What is the warranty?'\n"
     ]
    },
    {
     "ename": "",
     "evalue": "",
     "output_type": "error",
     "traceback": [
      "\u001b[1;31mThe Kernel crashed while executing code in the current cell or a previous cell. \n",
      "\u001b[1;31mPlease review the code in the cell(s) to identify a possible cause of the failure. \n",
      "\u001b[1;31mClick <a href='https://aka.ms/vscodeJupyterKernelCrash'>here</a> for more info. \n",
      "\u001b[1;31mView Jupyter <a href='command:jupyter.viewOutput'>log</a> for further details."
     ]
    }
   ],
   "source": [
    "import os\n",
    "from langchain_chroma import Chroma\n",
    "from langchain_huggingface import HuggingFaceEmbeddings\n",
    "\n",
    "DB_PATH = \"../vector_db\"\n",
    "\n",
    "print(\"--- Test 1: Direct Database Interaction ---\")\n",
    "if not os.path.exists(DB_PATH):\n",
    "    print(\"ERROR: Vector database not found.\")\n",
    "else:\n",
    "    try:\n",
    "        print(\"Loading embedding model...\")\n",
    "        embedding_model = HuggingFaceEmbeddings(\n",
    "            model_name=\"all-MiniLM-L6-v2\", model_kwargs={'device': 'cpu'}\n",
    "        )\n",
    "        \n",
    "        print(\"Connecting to ChromaDB...\")\n",
    "        vector_store = Chroma(persist_directory=DB_PATH, embedding_function=embedding_model)\n",
    "        \n",
    "        test_query = \"What is the warranty?\"\n",
    "        print(f\"\\nPerforming a direct similarity search for: '{test_query}'\")\n",
    "        \n",
    "        # This is the crucial test. We use Chroma's own search function.\n",
    "        results = vector_store.similarity_search(test_query, k=2)\n",
    "        \n",
    "        print(\"\\n✅ Direct search successful! The database is working.\")\n",
    "        print(f\"Found {len(results)} documents.\")\n",
    "        \n",
    "        for i, doc in enumerate(results):\n",
    "            print(f\"\\n--- Result {i+1} ---\")\n",
    "            print(f\"Source: {doc.metadata.get('source', 'N/A')}\")\n",
    "            print(f\"Content: {doc.page_content[:200]}...\")\n",
    "\n",
    "    except Exception as e:\n",
    "        print(f\"\\n❌ An error occurred during the direct database test: {e}\")"
   ]
  },
  {
   "cell_type": "code",
   "execution_count": 1,
   "id": "ea1f6d13",
   "metadata": {},
   "outputs": [
    {
     "name": "stdout",
     "output_type": "stream",
     "text": [
      "--- Test 2: Isolate Embedding Model ---\n",
      "Loading embedding model...\n",
      "Embedding the query: 'How do I reset my thermostat?'\n",
      "\n",
      "✅ Embedding successful!\n",
      "Generated a vector of size: 384\n",
      "Vector preview: [0.0022796164266765118, 0.027353640645742416, -0.07295823097229004, 0.04249444976449013, 0.01758238673210144]...\n"
     ]
    }
   ],
   "source": [
    "from langchain_huggingface import HuggingFaceEmbeddings\n",
    "\n",
    "print(\"--- Test 2: Isolate Embedding Model ---\")\n",
    "try:\n",
    "    print(\"Loading embedding model...\")\n",
    "    embedding_model = HuggingFaceEmbeddings(\n",
    "        model_name=\"all-MiniLM-L6-v2\", model_kwargs={'device': 'cpu'}\n",
    "    )\n",
    "    \n",
    "    test_query = \"How do I reset my thermostat?\"\n",
    "    print(f\"Embedding the query: '{test_query}'\")\n",
    "    \n",
    "    # This is the crucial test. We ask the model to convert text to a vector.\n",
    "    query_vector = embedding_model.embed_query(test_query)\n",
    "    \n",
    "    print(\"\\n✅ Embedding successful!\")\n",
    "    print(f\"Generated a vector of size: {len(query_vector)}\")\n",
    "    print(f\"Vector preview: {query_vector[:5]}...\")\n",
    "\n",
    "except Exception as e:\n",
    "    print(f\"\\n❌ An error occurred while testing the embedding model: {e}\")"
   ]
  },
  {
   "cell_type": "code",
   "execution_count": null,
   "id": "66b72e21",
   "metadata": {},
   "outputs": [],
   "source": []
  }
 ],
 "metadata": {
  "kernelspec": {
   "display_name": "nexora_env",
   "language": "python",
   "name": "python3"
  },
  "language_info": {
   "codemirror_mode": {
    "name": "ipython",
    "version": 3
   },
   "file_extension": ".py",
   "mimetype": "text/x-python",
   "name": "python",
   "nbconvert_exporter": "python",
   "pygments_lexer": "ipython3",
   "version": "3.10.18"
  }
 },
 "nbformat": 4,
 "nbformat_minor": 5
}
